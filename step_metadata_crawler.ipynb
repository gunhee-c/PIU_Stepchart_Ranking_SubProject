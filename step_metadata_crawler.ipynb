{
 "cells": [
  {
   "cell_type": "code",
   "execution_count": 2,
   "metadata": {},
   "outputs": [],
   "source": [
    "import re\n",
    "\n",
    "import requests\n",
    "from bs4 import BeautifulSoup\n",
    "\n",
    "#part 1: https://pumpout.anyhowstep.com/ 으로부터의 데이터 추출: metadata확보\n",
    "#part 2: piugame.com의 선곡 랭킹으로부터의 데이터 추출: 작곡가/노래 이름 한-영 번역 기능 추가\n",
    "\n",
    "%load_ext autoreload\n",
    "%autoreload 2"
   ]
  },
  {
   "cell_type": "code",
   "execution_count": 248,
   "metadata": {},
   "outputs": [],
   "source": [
    "\n",
    "\n",
    "#Request Soup 형성\n",
    "def extractSoupfromURL(url):\n",
    "    request = requests.get(url)\n",
    "    soup = BeautifulSoup(request.text, 'html.parser')\n",
    "    return request, soup\n",
    "\n",
    "#해당 URL이 유효한지 판별\n",
    "def check_valid_url(soup):\n",
    "    if soup.find('div', {'class': \"panel-heading bg bg-info\"}):\n",
    "        return True\n",
    "    return False\n",
    "\n",
    "#URL이 유효했는지 로그 남김\n",
    "def printLog(log, url, isURLValid):\n",
    "    if isURLValid:\n",
    "        print(f'{url} is valid')\n",
    "        log.append(f'{url} is valid')\n",
    "    else:\n",
    "        print(f'{url} is invalid')\n",
    "        log.append(f'{url} is invalid')\n",
    "\n",
    "#title/step_artist/levels/bpm/category/gametype 추출\n",
    "def get_title(soup):\n",
    "    title = soup.find('title').prettify()\n",
    "    ans = title.replace(\"\\t\", \"\").replace(\"\\n\", \"\")\n",
    "    return ans[17:-19]\n",
    "\n",
    "def get_step_artist(soup):\n",
    "    step_artist = r'bg-primary\">(.*?)</span>'\n",
    "    step_artist_list = re.findall(step_artist, str(soup))\n",
    "    return step_artist_list\n",
    "\n",
    "def get_levels(soup):\n",
    "    levels = r'Levels/(.*?).png\"'\n",
    "    soup_partial = soup.find('div', class_='list-group-item')\n",
    "    levels_list = re.findall(levels, str(soup_partial))\n",
    "    ans = level_format_list(levels_list)\n",
    "    return ans\n",
    "def extract_before_slash(s):\n",
    "    # Split the string by '/' and take the first element\n",
    "    return s.split('/')[0]\n",
    "\n",
    "def level_format(str):\n",
    "    type = extract_before_slash(str)\n",
    "    level = str[-2:]\n",
    "    return f'{type}{level}'\n",
    "\n",
    "def level_format_list(levels):\n",
    "    ans = []\n",
    "    for i in levels:\n",
    "        new_item = level_format(i)\n",
    "        ans.append(new_item)\n",
    "    print(ans)\n",
    "    return ans\n",
    "\n",
    "def get_bpm(soup):\n",
    "    span_text = soup.find('span', {'class': 'badge bg-info'}).text\n",
    "    bpm = ''.join(filter(str.isdigit, span_text))\n",
    "    return bpm\n",
    "\n",
    "def get_category(soup):\n",
    "    category = soup.find('span', {'class': 'badge bg-success pull-right'}).text\n",
    "    return category\n",
    "\n",
    "def get_gametype(soup):\n",
    "    gametype = soup.find('span', {'class': 'badge bg-inverse pull-right'}).text\n",
    "    return gametype\n",
    "\n",
    "#metadata 추출 - 위 function들을 하나로 합침\n",
    "def extract_metadata(soup):\n",
    "    title = get_title(soup)\n",
    "    step_artist_list = get_step_artist(soup)\n",
    "    levels_list = get_levels(soup)\n",
    "    bpm = get_bpm(soup)\n",
    "    category = get_category(soup)\n",
    "    gametype = get_gametype(soup)\n",
    "    return title, step_artist_list, levels_list, bpm, category, gametype\n",
    "    "
   ]
  },
  {
   "cell_type": "code",
   "execution_count": 249,
   "metadata": {},
   "outputs": [],
   "source": [
    "#metadata를 string으로 변환\n",
    "def string_of_data(index, valid, Song, BPM, Category, GameType, Level, StepArtist):\n",
    "    if valid == False:\n",
    "        return f'index = {index} is invalid\\n-\\n'\n",
    "    else:\n",
    "        return f'index = {index}\\nSong: {Song}\\nBPM: {BPM}\\nCategory: {Category}\\nGameType: {GameType}\\nLevel: {Level}\\nStepArtist: {StepArtist}\\n-\\n'\n",
    "\n",
    "#Utility Function: 혹시 스텝-제작자가 매칭이 되지 않을지 확인\n",
    "def checkLength(list1, list2):\n",
    "    if len(list1) != len(list2):\n",
    "        print(f'Length of Levels: {len(list1)}\\nLength of StepArtists: {len(list2)}')\n",
    "    \n",
    "#URL을 통해 soup을 추출하고, 유효한지 판별\n",
    "def parse_URL(url_num):\n",
    "    current_URL = f'https://pumpout.anyhowstep.com/songs/{url_num}'\n",
    "    request, soup = extractSoupfromURL(current_URL)\n",
    "    isURLValid = check_valid_url(soup)\n",
    "    return current_URL, request, soup, isURLValid\n",
    "\n",
    "#list를 string으로 변환\n",
    "def get_log_string(log):\n",
    "    ans = \"\"\n",
    "    for i in log:\n",
    "        ans += i + \"\\n\"\n",
    "    return ans\n"
   ]
  },
  {
   "cell_type": "code",
   "execution_count": null,
   "metadata": {},
   "outputs": [],
   "source": [
    "#initialize\n",
    "url_list = []\n",
    "requests_list = []\n",
    "soup_list = []\n",
    "url_valid_list = []\n",
    "log = []\n",
    "\n",
    "for i in range(929):\n",
    "    current_URL, request, soup, isURLValid = parse_URL(i+1)\n",
    "    #Get URL, Request,Soup, and check if URL is valid\n",
    "    url_list.append(current_URL)\n",
    "    requests_list.append(request)\n",
    "    soup_list.append(soup)\n",
    "    isURLValid = check_valid_url(soup_list[i])\n",
    "    url_valid_list.append(isURLValid)\n",
    "    #printLog(log, url_list[i], isURLValid)\n",
    "\n"
   ]
  },
  {
   "cell_type": "code",
   "execution_count": 254,
   "metadata": {},
   "outputs": [
    {
     "name": "stdout",
     "output_type": "stream",
     "text": [
      "928\n"
     ]
    }
   ],
   "source": [
    "#먼저 앞으로 URL에 다시 접근하지 않아도 되도록 먼저 soup를 txt 파일로 백업했음\n",
    "def BigURLString(soup_list):\n",
    "    ans = \"\"\n",
    "    for i in range(len(soup_list)):\n",
    "        unitStr = f\"!!URL index= {i}!!\\n\"\n",
    "        unitStr += soup_list[i].prettify()\n",
    "        unitStr += \"!!End of URL!!\\n\\n\"\n",
    "        ans += unitStr\n",
    "    print(i)\n",
    "    return ans\n",
    "\n",
    "strSoup = BigURLString(soup_list)\n",
    "\n",
    "with open('Soup_backup.txt', 'w', encoding = 'utf-8') as f:\n",
    "    f.write(strSoup)\n",
    "    f.close()"
   ]
  },
  {
   "cell_type": "code",
   "execution_count": null,
   "metadata": {},
   "outputs": [],
   "source": [
    "#metadata의 종류들을 initialize\n",
    "Song_list = []\n",
    "BPM_list = []\n",
    "Category_list = []\n",
    "Level_list = []\n",
    "StepArtist_list = []\n",
    "Gametype_list = []\n",
    "#TODO: 출시 버전 정리\n",
    "\n",
    "#metadata 추출\n",
    "for i in range(len(soup_list)):\n",
    "    if url_valid_list[i] == True:\n",
    "        #if URL is valid, then start parsing.\n",
    "        song_title, step_artist_list, levels_list, bpm, category, gametype = extract_metadata(soup_list[i])\n",
    "        Song_list.append(song_title)\n",
    "        BPM_list.append(bpm)\n",
    "        Category_list.append(category)\n",
    "        Level_list.append(levels_list)\n",
    "        StepArtist_list.append(step_artist_list)\n",
    "        Gametype_list.append(gametype)\n",
    "    else:\n",
    "        print(f'{url_list[i]} is invalid. Skipping...')\n"
   ]
  },
  {
   "cell_type": "code",
   "execution_count": 259,
   "metadata": {},
   "outputs": [],
   "source": [
    "#로그 정리 (URL 파싱 성공 여부)\n",
    "Writeme = \"\"\n",
    "for i in range(915):\n",
    "    Writeme += string_of_data(i, url_valid_list[i], Song_list[i], BPM_list[i], Category_list[i], Gametype_list[i], Level_list[i], StepArtist_list[i])\n",
    "\n",
    "log_result = get_log_string(log)"
   ]
  },
  {
   "cell_type": "code",
   "execution_count": 260,
   "metadata": {},
   "outputs": [],
   "source": [
    "#txt 파일로 저장\n",
    "with open('output.txt', 'w') as f:\n",
    "    f.write(Writeme)\n",
    "    f.close()\n",
    "\n",
    "with open('output_log.txt', 'w') as f:\n",
    "    f.write(log_result)\n",
    "    f.close()"
   ]
  },
  {
   "cell_type": "code",
   "execution_count": 103,
   "metadata": {},
   "outputs": [],
   "source": [
    "with open('SongRanks-KR.txt', encoding = 'utf-8') as file:\n",
    "    text2 = file.read()\n",
    "\n",
    "with open('SongRanks-EN.txt', encoding = 'utf-8') as file:\n",
    "    text1 = file.read()\n",
    "    \n",
    "def remove_tabs_and_enters(text):\n",
    "    return text.replace('\\t', '').replace('\\n', '')\n",
    "\n",
    "def remove_multiple_spaces(text):\n",
    "    return ' '.join(text.split())\n",
    "\n",
    "#URL 파싱 과정에서의 anomalie들 정리\n",
    "def correct_anomalies_html(text):\n",
    "    text = text.replace('&amp;', '&')\n",
    "    text = text.replace('&quot;', '\"')\n",
    "    text = text.replace('&lt;', '<')\n",
    "    text = text.replace('&gt;', '>')\n",
    "    text = text.replace('&nbsp;', ' ')\n",
    "    return text\n",
    "\n",
    "#URL 파싱 과정에서의 anomalie들 정리: 특정 노래들에 대해서 정리\n",
    "def correct_anomalies_custom(text):\n",
    "    text = text.replace(\"feat.  KuTiNA\", \"feat. KuTiNA\")\n",
    "    return text"
   ]
  },
  {
   "cell_type": "code",
   "execution_count": 104,
   "metadata": {},
   "outputs": [],
   "source": [
    "def extract_content_between_tags(text):\n",
    "    # 정규 표현식을 사용하여 \"t1\">과 </p> 사이의 내용을 찾음\n",
    "    pattern1 = r't1\">(.*?)</p>'\n",
    "    pattern2 = r't2\">(.*?)</p>'\n",
    "    # findall 메서드를 사용해 모든 일치 항목을 리스트로 반환\n",
    "    matches1 = re.findall(pattern1, text, re.DOTALL)\n",
    "    matches2 = re.findall(pattern2, text, re.DOTALL)\n",
    "    return matches1, matches2\n",
    "text1 = correct_anomalies_custom(correct_anomalies_html(remove_multiple_spaces(remove_tabs_and_enters(text1))))\n",
    "text2 = correct_anomalies_custom(correct_anomalies_html(remove_multiple_spaces(remove_tabs_and_enters(text2))))\n",
    "songname_EN, composer_EN = extract_content_between_tags(text1)\n",
    "songname_KR, composer_KR = extract_content_between_tags(text2)\n",
    "\n",
    "with open('MetaData-ComposerSongNames.txt', 'w', encoding = 'utf-8') as file:\n",
    "    for i in range(544):\n",
    "        file.write(f'{songname_KR[i]}//{composer_KR[i]}//{songname_EN[i]}//{composer_EN[i]}\\n')\n"
   ]
  },
  {
   "cell_type": "code",
   "execution_count": null,
   "metadata": {},
   "outputs": [],
   "source": [
    "\n",
    "#혹시 double space가 더 남아있는기 검증했었음\n",
    "def detect_double_spaces(text):\n",
    "    return '  ' in text\n",
    "'''\n",
    "with open('MetaData-ComposerSongNames.txt', encoding = 'utf-8') as file:\n",
    "    text_metadata = file.read()\n",
    "\n",
    "print(detect_double_spaces(text_metadata))\n",
    "'''"
   ]
  },
  {
   "cell_type": "code",
   "execution_count": 14,
   "metadata": {},
   "outputs": [
    {
     "data": {
      "text/plain": [
       "'<!DOCTYPE html>\\n<html lang=\"en\">\\n <head>\\n  <meta charset=\"utf-8\"/>\\n  <title>\\n   Songs\\n\\t\\t\\t\\t\\t\\t\\t\\t\\t\\t\\t\\t\\t\\t\\n\\t\\t\\t\\t\\t\\t\\t\\t\\t\\t\\t\\n\\t\\t\\t\\t\\t\\t\\t\\t\\t\\t\\t\\t\\t\\t\\t\\t\\t\\t\\t\\t\\n\\t\\t\\t\\t\\t\\t\\n\\t\\t\\t\\t\\t\\t\\t\\t\\t\\t\\t\\t\\t\\t&gt;\\t\\t\\tAll I Want For X-mas\\n\\t\\t\\t\\t\\t\\t\\t\\t\\t\\t\\t\\t\\t\\t\\n\\t\\t\\t\\t\\t\\n - Pump Out\\n  </title>\\n  <link href=\"/images/9x9.gif\" rel=\"icon\" type=\"image/png\"/>\\n  <meta content=\"Pump Out is a searchable database for Pump it Up!\" name=\"description\"/>\\n  <meta content=\"\\t\\t\\t\\t\\t\\t\\n\\t\\t\\t\\t\\t\\t\\n\\t\\t\\t\\t\\t\\t\\t\\t\\t\\n\\t\\t\\t\\t\\t\\n\\t\\t\\t\\t\\t\\t\\t\\n\\t\\t\\t\\t\\t\\t\\n\\t\\t\\t\\t\\t\\t\\t\\t\\t\\t\\t\\t\\t\\t\\t\\t\\tSongs\\n\\t\\t\\t\\t\\t\\t\\t\\t\\t\\t\\t\\t\\t\\t\\n\\t\\t\\t\\t\\t\\t\\t\\t\\t\\t\\t\\n\\t\\t\\t\\t\\t\\t\\t\\t\\t\\t\\t\\t\\t\\t\\t\\t\\t\\t\\t\\t\\n\\t\\t\\t\\t\\t\\t\\n\\t\\t\\t\\t\\t\\t\\t\\t\\t\\t\\t\\t\\t\\t&gt;\\t\\t\\tAll I Want For X-mas\\n\\t\\t\\t\\t\\t\\t\\t\\t\\t\\t\\t\\t\\t\\t\\n\\t\\t\\t\\t\\t\\n - Pump Out\" itemprop=\"name\">\\n   <meta content=\"http://pumpout.anyhowstep.com//images/TitleCards/20.png\" itemprop=\"image\"/>\\n   <meta content=\"Pump Out is a searchable database for Pump it Up!\" itemprop=\"description\"/>\\n   <meta content=\"\\t\\t\\t\\t\\t\\t\\n\\t\\t\\t\\t\\t\\t\\n\\t\\t\\t\\t\\t\\t\\t\\t\\t\\n\\t\\t\\t\\t\\t\\n\\t\\t\\t\\t\\t\\t\\t\\n\\t\\t\\t\\t\\t\\t\\n\\t\\t\\t\\t\\t\\t\\t\\t\\t\\t\\t\\t\\t\\t\\t\\t\\tSongs\\n\\t\\t\\t\\t\\t\\t\\t\\t\\t\\t\\t\\t\\t\\t\\n\\t\\t\\t\\t\\t\\t\\t\\t\\t\\t\\t\\n\\t\\t\\t\\t\\t\\t\\t\\t\\t\\t\\t\\t\\t\\t\\t\\t\\t\\t\\t\\t\\n\\t\\t\\t\\t\\t\\t\\n\\t\\t\\t\\t\\t\\t\\t\\t\\t\\t\\t\\t\\t\\t&gt;\\t\\t\\tAll I Want For X-mas\\n\\t\\t\\t\\t\\t\\t\\t\\t\\t\\t\\t\\t\\t\\t\\n\\t\\t\\t\\t\\t\\n - Pump Out\" name=\"twitter:title\"/>\\n   <meta content=\"http://pumpout.anyhowstep.com//images/TitleCards/20.png\" name=\"twitter:image:src\"/>\\n   <meta content=\"Pump Out is a searchable database for Pump it Up!\" name=\"twitter:description\"/>\\n   <meta content=\"\\t\\t\\t\\t\\t\\t\\n\\t\\t\\t\\t\\t\\t\\n\\t\\t\\t\\t\\t\\t\\t\\t\\t\\n\\t\\t\\t\\t\\t\\n\\t\\t\\t\\t\\t\\t\\t\\n\\t\\t\\t\\t\\t\\t\\n\\t\\t\\t\\t\\t\\t\\t\\t\\t\\t\\t\\t\\t\\t\\t\\t\\tSongs\\n\\t\\t\\t\\t\\t\\t\\t\\t\\t\\t\\t\\t\\t\\t\\n\\t\\t\\t\\t\\t\\t\\t\\t\\t\\t\\t\\n\\t\\t\\t\\t\\t\\t\\t\\t\\t\\t\\t\\t\\t\\t\\t\\t\\t\\t\\t\\t\\n\\t\\t\\t\\t\\t\\t\\n\\t\\t\\t\\t\\t\\t\\t\\t\\t\\t\\t\\t\\t\\t&gt;\\t\\t\\tAll I Want For X-mas\\n\\t\\t\\t\\t\\t\\t\\t\\t\\t\\t\\t\\t\\t\\t\\n\\t\\t\\t\\t\\t\\n - Pump Out\" property=\"og:title\"/>\\n   <meta content=\"https://pumpout.anyhowstep.com/songs/1\" property=\"og:url\"/>\\n   <meta content=\"http://pumpout.anyhowstep.com//images/TitleCards/20.png\" property=\"og:image\"/>\\n   <meta content=\"Pump Out is a searchable database for Pump it Up!\" property=\"og:description\"/>\\n   <meta content=\"website\" property=\"og:type\"/>\\n   <meta content=\"200\" property=\"og:image:width\"/>\\n   <meta content=\"200\" property=\"og:image:height\"/>\\n   <meta content=\"pumpout://songs?id=1\" property=\"al:android:url\"/>\\n   <meta content=\"com.anyhowstep.pumpout\" property=\"al:android:package\"/>\\n   <meta content=\"Pump Out\" property=\"al:android:app_name\"/>\\n   <meta content=\"width=device-width, initial-scale=1, maximum-scale=1\" name=\"viewport\"/>\\n   <link href=\"/css/bootstrap.css\" rel=\"stylesheet\"/>\\n   <link href=\"/js/select2/select2.css\" rel=\"stylesheet\"/>\\n   <link href=\"/css/font-awesome.min.css\" rel=\"stylesheet\"/>\\n   <link href=\"/css/font.css\" rel=\"stylesheet\"/>\\n   <link href=\"/css/style.css\" rel=\"stylesheet\"/>\\n   <link href=\"/css/plugin.css\" rel=\"stylesheet\"/>\\n   <!--[if lt IE 9]>\\n\\t\\t\\t<script src=\"/js/ie/respond.min.js\"></script>\\n\\t\\t\\t<script src=\"/js/ie/html5.js\"></script>\\n\\t\\t\\t<script src=\"/js/ie/excanvas.js\"></script>\\n\\t\\t<![endif]-->\\n   <script src=\"/js/jquery.min.js\">\\n   </script>\\n   <script src=\"/js/jquery.cookie.js\">\\n   </script>\\n   <!-- Bootstrap -->\\n   <script src=\"/js/bootstrap.js\">\\n   </script>\\n   <!-- app -->\\n   <script src=\"/js/app.js\">\\n   </script>\\n   <script src=\"/js/app.plugin.js\">\\n   </script>\\n   <script src=\"/js/app.data.js\">\\n   </script>\\n   <script src=\"/js/fuelux/fuelux.js\">\\n   </script>\\n   <!-- Sparkline Chart -->\\n   <script src=\"/js/charts/sparkline/jquery.sparkline.min.js\">\\n   </script>\\n   <!-- Easy Pie Chart -->\\n   <script src=\"/js/charts/easypiechart/jquery.easy-pie-chart.js\">\\n   </script>\\n   <script src=\"/js/jquery-ui-1.10.3.custom.min.js\">\\n   </script>\\n   <script src=\"/js/jquery.ui.touch-punch.min.js\">\\n   </script>\\n   <!-- select2 -->\\n   <script src=\"/js/select2/select2.min.js\">\\n   </script>\\n   <script src=\"/js/parsley/parsley.min.js\">\\n   </script>\\n   <script src=\"/js/URI.js\">\\n   </script>\\n  </meta>\\n </head>\\n <body style=\"\">\\n  <header class=\"navbar\" id=\"header\">\\n   <a class=\"navbar-brand\" href=\"/\">\\n    <center>\\n     <img height=\"32\" src=\"/images/icon.png\" width=\"32\"/>\\n    </center>\\n   </a>\\n   <div class=\"hidden-xs\" style=\"width:25%; display:inline-block; padding: 5px;\">\\n    <form class=\"shift\" data-target=\"#mini_search_by_song_title\" data-toggle=\"shift:appendTo\" id=\"search_by_song_title\" style=\"margin-bottom:0px;\">\\n     <input class=\"txt_title form-control\" placeholder=\"Search for a Song..\" style=\"width:75%; display:inline-block;\" type=\"text\"/>\\n     <input style=\"display:none;\" type=\"submit\"/>\\n     <span class=\"btn\" onclick=\"this.previousSibling.previousSibling.click()\" style=\"width:20%;\">\\n      <i class=\"fa fa-search\">\\n      </i>\\n     </span>\\n    </form>\\n   </div>\\n   <div class=\"visible-xs\" style=\"padding: 5px;\">\\n    <center id=\"mini_search_by_song_title\">\\n    </center>\\n   </div>\\n   <script>\\n    $(document).ready(function () {\\n\\t\\t\\t\\t\\t$(\"#search_by_song_title\").on(\"submit\", function () {\\n\\t\\t\\t\\t\\t\\tlocation.href=\"/search/results?display=song&song_title=\"+encodeURIComponent($(\".txt_title\", \"#search_by_song_title\").val());\\n\\t\\t\\t\\t\\t\\treturn false;\\n\\t\\t\\t\\t\\t});\\n\\t\\t\\t\\t});\\n   </script>\\n   <button class=\"btn btn-link pull-left nav-toggle visible-xs\" data-target=\"body\" data-toggle=\"class:slide-nav slide-nav-left\" type=\"button\">\\n    <i class=\"fa fa-bars fa-lg text-default\">\\n    </i>\\n   </button>\\n  </header>\\n  <nav class=\"nav-primary hidden-xs nav-vertical\" id=\"nav\">\\n   <ul class=\"nav affix-top\" data-offset-top=\"50\" data-spy=\"affix\">\\n    <li class=\"dropdown-submenu active\">\\n     <a href=\"/lists\">\\n      <i class=\"fa fa-list fa-lg\">\\n      </i>\\n      <span>\\n       Lists\\n      </span>\\n     </a>\\n     <ul class=\"dropdown-menu\">\\n      <li>\\n       <a href=\"/mixes\">\\n        Mixes/Versions\\n       </a>\\n      </li>\\n      <li>\\n       <a href=\"/song_types\">\\n        Songs Types\\n       </a>\\n      </li>\\n      <li>\\n       <a href=\"/categories\">\\n        Categories\\n       </a>\\n      </li>\\n      <li>\\n       <a href=\"/modes\">\\n        Modes\\n       </a>\\n      </li>\\n      <li>\\n       <a href=\"/step_artists\">\\n        Step Artists\\n       </a>\\n      </li>\\n      <li>\\n       <a href=\"/artists\">\\n        Artists\\n       </a>\\n      </li>\\n      <li>\\n       <a href=\"/search/results?display=song\">\\n        Songs\\n       </a>\\n      </li>\\n      <li>\\n       <a href=\"/compy\">\\n        Competitions\\n       </a>\\n      </li>\\n     </ul>\\n    </li>\\n    <li class=\"dropdown-submenu\">\\n     <a href=\"/search\">\\n      <i class=\"fa fa-search fa-lg\">\\n      </i>\\n      <span>\\n       Search Tools\\n      </span>\\n     </a>\\n     <ul class=\"dropdown-menu\">\\n      <li>\\n       <a href=\"/search\">\\n        Search\\n       </a>\\n      </li>\\n      <li>\\n       <a href=\"/randomizer/1-player\">\\n        Chart Randomizer 1P\\n       </a>\\n      </li>\\n      <li>\\n       <a href=\"/randomizer/2-player\">\\n        Chart Randomizer 2P\\n       </a>\\n      </li>\\n      <li>\\n       <a href=\"/recent_plays/prime\">\\n        Recent Plays (Prime)\\n       </a>\\n      </li>\\n      <li>\\n       <a href=\"/recent_plays/prime2\">\\n        Recent Plays (Prime 2)\\n       </a>\\n      </li>\\n     </ul>\\n    </li>\\n    <li class=\"dropdown-submenu\">\\n     <a href=\"/users/log_in\">\\n      <i class=\"fa fa-user fa-lg\">\\n      </i>\\n      <span>\\n       Users/Log In\\n      </span>\\n     </a>\\n     <ul class=\"dropdown-menu\">\\n      <li>\\n       <a href=\"/users/register\">\\n        Register\\n       </a>\\n      </li>\\n      <li>\\n       <a href=\"/users/log_in\">\\n        Log In\\n       </a>\\n      </li>\\n     </ul>\\n    </li>\\n    <li class=\"dropdown-submenu\">\\n     <a href=\"/challenges\">\\n      <i class=\"fa fa-trophy fa-lg\">\\n      </i>\\n      <span>\\n       Challenges\\n      </span>\\n     </a>\\n     <ul class=\"dropdown-menu\">\\n      <li>\\n       <a href=\"/achievement_runs/latest\">\\n        Monthly (Latest) (BETA)\\n       </a>\\n      </li>\\n      <li>\\n       <a href=\"/achievement_runs\">\\n        Monthly (All) (BETA)\\n       </a>\\n      </li>\\n      <!--<li><a href=\"/single_eliminations\">Single Eliminations</a></li>\\n\\t\\t\\t\\t\\t\\t<li><a href=\"/n_eliminations\">N-Eliminations (BETA)</a></li>-->\\n      <li>\\n       <a href=\"/weekly_challenges/latest\">\\n        Weekly (Latest)\\n       </a>\\n      </li>\\n      <li>\\n       <a href=\"/weekly_challenges\">\\n        Weekly (All)\\n       </a>\\n      </li>\\n     </ul>\\n    </li>\\n    <li class=\"dropdown-submenu\">\\n     <a href=\"/machine_locations\">\\n      <i class=\"fa fa-globe fa-lg\">\\n      </i>\\n      <span>\\n       Locations\\n      </span>\\n     </a>\\n     <ul class=\"dropdown-menu\">\\n      <li>\\n       <a href=\"/machine_locations\">\\n        List\\n       </a>\\n      </li>\\n     </ul>\\n    </li>\\n   </ul>\\n  </nav>\\n  <section id=\"content\">\\n   <section class=\"main padder\">\\n    <h4>\\n     <i class=\"fa fa-th-list\">\\n     </i>\\n     <a href=\"/songs\">\\n      Songs\\n     </a>\\n     <i class=\"fa fa-chevron-right\">\\n     </i>\\n     <a href=\"/songs/1\">\\n      All I Want For X-mas\\n     </a>\\n    </h4>\\n    <section class=\"panel\">\\n     <div class=\"panel-heading bg bg-info\">\\n      Overview\\n     </div>\\n     <div class=\"list-group-item\">\\n      <a href=\"/songs/1\">\\n       <div class=\"media\" id=\"chart-item-container--1\">\\n        <div class=\"media-large pull-left\">\\n         <img class=\"thumb-large\" src=\"/images/TitleCards/20.png\" style=\"\"/>\\n        </div>\\n        <div class=\"media-large pull-right hidden-sm hidden-xs\">\\n         <div>\\n          <span class=\"badge bg-info pull-right\">\\n           130\\n\\t\\t\\t\\t\\t\\t\\t\\t\\t\\tBPM\\n          </span>\\n          <br/>\\n          <span class=\"badge bg-inverse pull-right\" href=\"\">\\n           Arcade\\n          </span>\\n          <br/>\\n          <span class=\"badge bg-success pull-right\">\\n           ORIGINAL\\n          </span>\\n         </div>\\n        </div>\\n        <div class=\"media-body\">\\n         All I Want For X-mas\\n         <span class=\"label bg-inverse\">\\n          ID: 504\\n         </span>\\n         <br/>\\n         <span class=\"label bg-primary\" href=\"\">\\n          BanYa\\n         </span>\\n         <div class=\"hidden-lg\">\\n          <div>\\n           <span class=\"badge bg-info\">\\n            130\\n\\t\\t\\t\\t\\t\\t\\t\\t\\t\\t\\t\\tBPM\\n           </span>\\n           <span class=\"badge bg-inverse\" href=\"\">\\n            Arcade\\n           </span>\\n           <span class=\"badge bg-success\">\\n            ORIGINAL\\n           </span>\\n          </div>\\n         </div>\\n         <div class=\"shift\" data-target=\"#step_ball_container_mobile__1\" data-toggle=\"shift:appendTo\">\\n          <!--<span class=\"label bg-inverse\" href=\"\">S3</span>-->\\n          <img class=\"thumb-small\" src=\"/images/Levels/S/single_lv03.png\"/>\\n          <!--<span class=\"label bg-inverse\" href=\"\">S5</span>-->\\n          <img class=\"thumb-small\" src=\"/images/Levels/S/single_lv05.png\"/>\\n          <!--<span class=\"label bg-inverse\" href=\"\">S9</span>-->\\n          <img class=\"thumb-small\" src=\"/images/Levels/S/single_lv09.png\"/>\\n          <!--<span class=\"label bg-inverse\" href=\"\">D8</span>-->\\n          <img class=\"thumb-small\" src=\"/images/Levels/D/double_lv08.png\"/>\\n         </div>\\n        </div>\\n       </div>\\n       <div id=\"step_ball_container_mobile__1\">\\n       </div>\\n      </a>\\n     </div>\\n    </section>\\n    <div class=\"row\">\\n     <div class=\"col-lg-6\">\\n      <section class=\"panel\">\\n       <div class=\"panel-heading bg bg-info\">\\n        Charts\\n       </div>\\n       <div class=\"list-group\">\\n        <a class=\"list-group-item\" href=\"/charts/13\">\\n         <div class=\"media\">\\n          <img class=\"thumb pull-left\" src=\"/images/Levels/S/single_lv03.png\"/>\\n          <div class=\"media-body\">\\n           <span class=\"label bg-primary\">\\n            ANDAMIRO\\n           </span>\\n           <br/>\\n           <span class=\"label bg-info\">\\n            <i class=\"fa fa-plus\">\\n            </i>\\n            The Perfect Collection - default\\n           </span>\\n           <span class=\"label bg-inverse\">\\n            NORMAL\\n           </span>\\n           <br/>\\n           <img height=\"32\" src=\"/images/Levels/S/single_lv02.png\" width=\"32\"/>\\n          </div>\\n         </div>\\n        </a>\\n        <a class=\"list-group-item\" href=\"/charts/14\">\\n         <div class=\"media\">\\n          <img class=\"thumb pull-left\" src=\"/images/Levels/S/single_lv05.png\"/>\\n          <div class=\"media-body\">\\n           <span class=\"label bg-primary\">\\n            ANDAMIRO\\n           </span>\\n           <br/>\\n           <span class=\"label bg-info\">\\n            <i class=\"fa fa-plus\">\\n            </i>\\n            The Perfect Collection - default\\n           </span>\\n           <span class=\"label bg-inverse\">\\n            HARD\\n           </span>\\n           <br/>\\n           <img height=\"32\" src=\"/images/Levels/S/single_lv06.png\" width=\"32\"/>\\n           <img height=\"32\" src=\"/images/Levels/S/single_lv03.png\" width=\"32\"/>\\n          </div>\\n         </div>\\n        </a>\\n        <a class=\"list-group-item\" href=\"/charts/15\">\\n         <div class=\"media\">\\n          <img class=\"thumb pull-left\" src=\"/images/Levels/S/single_lv09.png\"/>\\n          <div class=\"media-body\">\\n           <span class=\"label bg-primary\">\\n            ANDAMIRO\\n           </span>\\n           <br/>\\n           <span class=\"label bg-info\">\\n            <i class=\"fa fa-plus\">\\n            </i>\\n            The Perfect Collection - default\\n           </span>\\n           <span class=\"label bg-inverse\">\\n            CRAZY\\n           </span>\\n           <br/>\\n           <img height=\"32\" src=\"/images/Levels/S/single_lv11.png\" width=\"32\"/>\\n           <img height=\"32\" src=\"/images/Levels/S/single_lv07.png\" width=\"32\"/>\\n           <img height=\"32\" src=\"/images/Levels/S/single_lv08.png\" width=\"32\"/>\\n           <img height=\"32\" src=\"/images/Levels/S/single_lv03.png\" width=\"32\"/>\\n          </div>\\n         </div>\\n        </a>\\n        <a class=\"list-group-item\" href=\"/charts/16\">\\n         <div class=\"media\">\\n          <img class=\"thumb pull-left\" src=\"/images/Levels/D/double_lv08.png\"/>\\n          <div class=\"media-body\">\\n           <span class=\"label bg-primary\">\\n            ANDAMIRO\\n           </span>\\n           <br/>\\n           <span class=\"label bg-info\">\\n            <i class=\"fa fa-plus\">\\n            </i>\\n            The Perfect Collection - default\\n           </span>\\n           <span class=\"label bg-inverse\">\\n            FREESTYLE\\n           </span>\\n           <br/>\\n           <img height=\"32\" src=\"/images/Levels/D/double_lv07.png\" width=\"32\"/>\\n           <img height=\"32\" src=\"/images/Levels/D/double_lv04.png\" width=\"32\"/>\\n           <img height=\"32\" src=\"/images/Levels/D/double_lv03.png\" width=\"32\"/>\\n          </div>\\n         </div>\\n        </a>\\n       </div>\\n      </section>\\n     </div>\\n     <div class=\"col-lg-6\">\\n      <div class=\"\">\\n       <section class=\"panel\">\\n        <div class=\"panel-heading bg bg-info\">\\n         Options\\n        </div>\\n        <div class=\"panel-body\">\\n         <select class=\"form-control\" id=\"song_page_filter_chart_version_id\">\\n          <option value=\"\">\\n           -Select a Version-\\n          </option>\\n          <option value=\"188\">\\n           Phoenix - v1.01.0\\n          </option>\\n          <option value=\"187\">\\n           Phoenix - v1.00.0\\n          </option>\\n          <option value=\"176\">\\n           XX - v2.08.0\\n          </option>\\n          <option value=\"174\">\\n           XX - v2.07.0\\n          </option>\\n          <option value=\"173\">\\n           XX - v2.06.0\\n          </option>\\n          <option value=\"172\">\\n           XX - v2.05.0\\n          </option>\\n          <option value=\"157\">\\n           XX - v2.04.0\\n          </option>\\n          <option value=\"156\">\\n           XX - v2.03.1\\n          </option>\\n          <option value=\"155\">\\n           XX - v2.03.0\\n          </option>\\n          <option value=\"154\">\\n           XX - v2.02.0\\n          </option>\\n          <option value=\"153\">\\n           XX - v2.01.0\\n          </option>\\n          <option value=\"152\">\\n           XX - v2.00.0\\n          </option>\\n          <option value=\"151\">\\n           XX - v1.05.0\\n          </option>\\n          <option value=\"150\">\\n           XX - v1.04.0\\n          </option>\\n          <option value=\"149\">\\n           XX - v1.03.1\\n          </option>\\n          <option value=\"148\">\\n           XX - v1.03.0\\n          </option>\\n          <option value=\"147\">\\n           XX - v1.02.0\\n          </option>\\n          <option value=\"146\">\\n           XX - v1.01.0\\n          </option>\\n          <option value=\"145\">\\n           XX - v1.00.1\\n          </option>\\n          <option value=\"143\">\\n           Prime 2 - v2.05.0\\n          </option>\\n          <option value=\"142\">\\n           Prime 2 - v2.04.0\\n          </option>\\n          <option value=\"141\">\\n           Prime 2 - v2.03.0\\n          </option>\\n          <option value=\"140\">\\n           Prime 2 - v2.02.0\\n          </option>\\n          <option value=\"139\">\\n           Prime 2 - v2.01.0\\n          </option>\\n          <option value=\"138\">\\n           Prime 2 - v2.00.0\\n          </option>\\n          <option value=\"137\">\\n           Prime 2 - v1.10.0\\n          </option>\\n          <option value=\"136\">\\n           Prime 2 - v1.09.0\\n          </option>\\n          <option value=\"135\">\\n           Prime 2 - v1.08.0\\n          </option>\\n          <option value=\"134\">\\n           Prime 2 - v1.07.0\\n          </option>\\n          <option value=\"133\">\\n           Prime 2 - v1.06.0\\n          </option>\\n          <option value=\"132\">\\n           Prime 2 - v1.05.0\\n          </option>\\n          <option value=\"131\">\\n           Prime 2 - v1.04.0\\n          </option>\\n          <option value=\"130\">\\n           Prime 2 - v1.03.0\\n          </option>\\n          <option value=\"129\">\\n           Prime 2 - v1.02.0\\n          </option>\\n          <option value=\"128\">\\n           Prime 2 - v1.01.0\\n          </option>\\n          <option value=\"127\">\\n           Prime 2 - v1.00.0\\n          </option>\\n          <option value=\"126\">\\n           Prime JE - v1.17.0\\n          </option>\\n          <option value=\"124\">\\n           Prime JE - v1.16.0\\n          </option>\\n          <option value=\"122\">\\n           Prime JE - v1.15.0\\n          </option>\\n          <option value=\"119\">\\n           Prime JE - v1.14.0\\n          </option>\\n          <option value=\"118\">\\n           Prime JE - v1.13.0\\n          </option>\\n          <option value=\"116\">\\n           Prime JE - v1.12.0\\n          </option>\\n          <option value=\"114\">\\n           Prime JE - v1.11.0\\n          </option>\\n          <option value=\"111\">\\n           Prime JE - v1.10.0\\n          </option>\\n          <option value=\"108\">\\n           Prime JE - v1.09.0\\n          </option>\\n          <option value=\"104\">\\n           Prime JE - v1.08.0\\n          </option>\\n          <option value=\"102\">\\n           Prime JE - v1.07.0\\n          </option>\\n          <option value=\"26\">\\n           Prime JE - v1.06.0\\n          </option>\\n          <option value=\"24\">\\n           Prime JE - v1.05.0\\n          </option>\\n          <option value=\"13\">\\n           Prime JE - v1.04.0\\n          </option>\\n          <option value=\"11\">\\n           Prime JE - v1.03.0\\n          </option>\\n          <option value=\"9\">\\n           Prime JE - v1.02.0\\n          </option>\\n          <option value=\"8\">\\n           Prime JE - v1.01.0\\n          </option>\\n          <option value=\"125\">\\n           Prime - v1.21.0\\n          </option>\\n          <option value=\"123\">\\n           Prime - v1.20.0\\n          </option>\\n          <option value=\"121\">\\n           Prime - v1.19.0\\n          </option>\\n          <option value=\"120\">\\n           Prime - v1.18.0\\n          </option>\\n          <option value=\"117\">\\n           Prime - v1.17.0\\n          </option>\\n          <option value=\"115\">\\n           Prime - v1.16.0\\n          </option>\\n          <option value=\"113\">\\n           Prime - v1.15.0\\n          </option>\\n          <option value=\"112\">\\n           Prime - v1.14.0\\n          </option>\\n          <option value=\"109\">\\n           Prime - v1.13.0\\n          </option>\\n          <option value=\"105\">\\n           Prime - v1.12.0\\n          </option>\\n          <option value=\"103\">\\n           Prime - v1.11.0\\n          </option>\\n          <option value=\"27\">\\n           Prime - v1.10.0\\n          </option>\\n          <option value=\"25\">\\n           Prime - v1.09.0\\n          </option>\\n          <option value=\"12\">\\n           Prime - v1.08.0\\n          </option>\\n          <option value=\"10\">\\n           Prime - v1.07.0\\n          </option>\\n          <option value=\"7\">\\n           Prime - v1.06.0\\n          </option>\\n          <option value=\"6\">\\n           Prime - v1.05.0\\n          </option>\\n          <option value=\"5\">\\n           Prime - v1.04.0\\n          </option>\\n          <option value=\"4\">\\n           Prime - v1.03.0\\n          </option>\\n          <option value=\"3\">\\n           Prime - v1.02.0\\n          </option>\\n          <option value=\"2\">\\n           Prime - v1.01.0\\n          </option>\\n          <option value=\"1\">\\n           Prime - v1.00.0\\n          </option>\\n          <option value=\"144\">\\n           Infinity - v1.10\\n          </option>\\n          <option value=\"76\">\\n           Infinity - v1.09\\n          </option>\\n          <option value=\"186\">\\n           Infinity - v1.07\\n          </option>\\n          <option value=\"185\">\\n           Infinity - v1.06\\n          </option>\\n          <option value=\"184\">\\n           Infinity - v1.05\\n          </option>\\n          <option value=\"183\">\\n           Infinity - v1.03\\n          </option>\\n          <option value=\"23\">\\n           Fiesta 2 - v1.61\\n          </option>\\n          <option value=\"22\">\\n           Fiesta 2 - v1.60\\n          </option>\\n          <option value=\"21\">\\n           Fiesta 2 - v1.51\\n          </option>\\n          <option value=\"20\">\\n           Fiesta 2 - v1.50\\n          </option>\\n          <option value=\"19\">\\n           Fiesta 2 - v1.40\\n          </option>\\n          <option value=\"18\">\\n           Fiesta 2 - v1.30\\n          </option>\\n          <option value=\"17\">\\n           Fiesta 2 - v1.20\\n          </option>\\n          <option value=\"16\">\\n           Fiesta 2 - v1.10\\n          </option>\\n          <option value=\"15\">\\n           Fiesta 2 - v1.01\\n          </option>\\n          <option value=\"14\">\\n           Fiesta 2 - v1.00\\n          </option>\\n          <option value=\"171\">\\n           Fiesta EX - v1.51\\n          </option>\\n          <option value=\"170\">\\n           Fiesta EX - v1.50\\n          </option>\\n          <option value=\"169\">\\n           Fiesta EX - v1.40\\n          </option>\\n          <option value=\"168\">\\n           Fiesta EX - v1.30\\n          </option>\\n          <option value=\"167\">\\n           Fiesta EX - v1.20\\n          </option>\\n          <option value=\"166\">\\n           Fiesta EX - v1.10\\n          </option>\\n          <option value=\"77\">\\n           Fiesta EX - v1.00\\n          </option>\\n          <option value=\"165\">\\n           Fiesta - v1.20\\n          </option>\\n          <option value=\"164\">\\n           Fiesta - v1.10\\n          </option>\\n          <option value=\"163\">\\n           Fiesta - v1.07\\n          </option>\\n          <option value=\"162\">\\n           Fiesta - v1.06\\n          </option>\\n          <option value=\"161\">\\n           Fiesta - v1.05\\n          </option>\\n          <option value=\"160\">\\n           Fiesta - v1.04\\n          </option>\\n          <option value=\"159\">\\n           Fiesta - v1.03\\n          </option>\\n          <option value=\"158\">\\n           Fiesta - v1.02\\n          </option>\\n          <option value=\"78\">\\n           Fiesta - v1.01\\n          </option>\\n          <option value=\"182\">\\n           Pro2 - r14\\n          </option>\\n          <option value=\"181\">\\n           Pro2 - r12\\n          </option>\\n          <option value=\"180\">\\n           Pro2 - r6\\n          </option>\\n          <option value=\"79\">\\n           NX Absolute - default\\n          </option>\\n          <option value=\"80\">\\n           NX2 / Next Xenesis - default\\n          </option>\\n          <option value=\"179\">\\n           Pro - Encore\\n          </option>\\n          <option value=\"178\">\\n           Pro - R5\\n          </option>\\n          <option value=\"177\">\\n           Pro - Initial\\n          </option>\\n          <option value=\"175\">\\n           NX / New Xenesis - 1.08\\n          </option>\\n          <option value=\"81\">\\n           NX / New Xenesis - default\\n          </option>\\n          <option value=\"82\">\\n           Zero - default\\n          </option>\\n          <option value=\"83\">\\n           Exceed 2 - default\\n          </option>\\n          <option value=\"84\">\\n           Exceed - default\\n          </option>\\n          <option value=\"85\">\\n           The Prex 3 - default\\n          </option>\\n          <option value=\"86\">\\n           The Premiere 3 - default\\n          </option>\\n          <option value=\"87\">\\n           The Prex 2 - default\\n          </option>\\n          <option value=\"88\">\\n           The Premiere 2 - default\\n          </option>\\n          <option value=\"89\">\\n           The Rebirth - default\\n          </option>\\n          <option value=\"90\">\\n           The Prex - default\\n          </option>\\n          <option value=\"91\">\\n           The Premiere - default\\n          </option>\\n          <option value=\"93\">\\n           Extra - default\\n          </option>\\n          <option value=\"94\">\\n           The Perfect Collection - default\\n          </option>\\n          <option value=\"95\">\\n           The Collection - default\\n          </option>\\n          <option value=\"96\">\\n           The O.B.G / Season Evolution - default\\n          </option>\\n          <option value=\"97\">\\n           3rd O.B.G - default\\n          </option>\\n          <option value=\"98\">\\n           2nd Ultimate Remix - default\\n          </option>\\n          <option value=\"99\">\\n           The 1st Dance Floor - default\\n          </option>\\n         </select>\\n         <input class=\"btn form-control\" id=\"song_page_filter_chart_version_id_btn\" type=\"button\" value=\"Filter Charts\"/>\\n         <script>\\n          $(document).ready(function () {\\n\\t\\t\\t\\t\\t\\t\\t\\tvar version_id = $.cookie(\"song_page_filter_chart_version_id\");\\n\\t\\t\\t\\t\\t\\t\\t\\t$(\"#song_page_filter_chart_version_id\").val(version_id);\\n\\t\\t\\t\\t\\t\\t\\t\\tconsole.log(version_id);\\n\\t\\t\\t\\t\\t\\t\\t\\t$(\"#song_page_filter_chart_version_id_btn\").on(\"click\", function () {\\n\\t\\t\\t\\t\\t\\t\\t\\t\\tvar version_id = $(\"#song_page_filter_chart_version_id\").val();\\n\\t\\t\\t\\t\\t\\t\\t\\t\\t$.cookie(\"song_page_filter_chart_version_id\", version_id);\\n\\t\\t\\t\\t\\t\\t\\t\\t\\tlocation.reload(true);\\n\\t\\t\\t\\t\\t\\t\\t\\t});\\n\\t\\t\\t\\t\\t\\t\\t});\\n         </script>\\n        </div>\\n       </section>\\n      </div>\\n      <section class=\"panel\">\\n       <div class=\"panel-heading bg bg-info\">\\n        Appearance Log\\n       </div>\\n       <div class=\"panel-body list-group\">\\n        <div class=\"list-group-item row\">\\n         <div class=\"col-lg-6 col-sm-6 col-xs-6\">\\n          <a class=\"h5\" href=\"/versions/8\">\\n           <strong>\\n            Prime JE - v1.01.0\\n           </strong>\\n          </a>\\n          <br/>\\n          Crossed Over\\n         </div>\\n         <div class=\"col-lg-6 col-sm-6 col-xs-6\">\\n          <strong>\\n          </strong>\\n          <br/>\\n         </div>\\n        </div>\\n        <div class=\"list-group-item row\">\\n         <div class=\"col-lg-6 col-sm-6 col-xs-6\">\\n          <a class=\"h5\" href=\"/versions/77\">\\n           <strong>\\n            Fiesta EX - v1.00\\n           </strong>\\n          </a>\\n          <br/>\\n          Revived\\n         </div>\\n         <div class=\"col-lg-6 col-sm-6 col-xs-6\">\\n          <strong>\\n          </strong>\\n          <br/>\\n         </div>\\n        </div>\\n        <div class=\"list-group-item row\">\\n         <div class=\"col-lg-6 col-sm-6 col-xs-6\">\\n          <a class=\"h5\" href=\"/versions/79\">\\n           <strong>\\n            NX Absolute - default\\n           </strong>\\n          </a>\\n          <br/>\\n          Removed\\n         </div>\\n         <div class=\"col-lg-6 col-sm-6 col-xs-6\">\\n          <strong>\\n          </strong>\\n          <br/>\\n          NXA: WorldMax only\\n         </div>\\n        </div>\\n        <div class=\"list-group-item row\">\\n         <div class=\"col-lg-6 col-sm-6 col-xs-6\">\\n          <a class=\"h5\" href=\"/versions/82\">\\n           <strong>\\n            Zero - default\\n           </strong>\\n          </a>\\n          <br/>\\n          Removed\\n         </div>\\n         <div class=\"col-lg-6 col-sm-6 col-xs-6\">\\n          <strong>\\n          </strong>\\n          <br/>\\n         </div>\\n        </div>\\n        <div class=\"list-group-item row\">\\n         <div class=\"col-lg-6 col-sm-6 col-xs-6\">\\n          <a class=\"h5\" href=\"/versions/85\">\\n           <strong>\\n            The Prex 3 - default\\n           </strong>\\n          </a>\\n          <br/>\\n          Revived\\n         </div>\\n         <div class=\"col-lg-6 col-sm-6 col-xs-6\">\\n          <strong>\\n          </strong>\\n          <br/>\\n         </div>\\n        </div>\\n        <div class=\"list-group-item row\">\\n         <div class=\"col-lg-6 col-sm-6 col-xs-6\">\\n          <a class=\"h5\" href=\"/versions/87\">\\n           <strong>\\n            The Prex 2 - default\\n           </strong>\\n          </a>\\n          <br/>\\n          Removed\\n         </div>\\n         <div class=\"col-lg-6 col-sm-6 col-xs-6\">\\n          <strong>\\n          </strong>\\n          <br/>\\n         </div>\\n        </div>\\n        <div class=\"list-group-item row\">\\n         <div class=\"col-lg-6 col-sm-6 col-xs-6\">\\n          <a class=\"h5\" href=\"/versions/88\">\\n           <strong>\\n            The Premiere 2 - default\\n           </strong>\\n          </a>\\n          <br/>\\n          Revived\\n         </div>\\n         <div class=\"col-lg-6 col-sm-6 col-xs-6\">\\n          <strong>\\n          </strong>\\n          <br/>\\n         </div>\\n        </div>\\n        <div class=\"list-group-item row\">\\n         <div class=\"col-lg-6 col-sm-6 col-xs-6\">\\n          <a class=\"h5\" href=\"/versions/89\">\\n           <strong>\\n            The Rebirth - default\\n           </strong>\\n          </a>\\n          <br/>\\n          Removed\\n         </div>\\n         <div class=\"col-lg-6 col-sm-6 col-xs-6\">\\n          <strong>\\n          </strong>\\n          <br/>\\n         </div>\\n        </div>\\n        <div class=\"list-group-item row\">\\n         <div class=\"col-lg-6 col-sm-6 col-xs-6\">\\n          <a class=\"h5\" href=\"/versions/91\">\\n           <strong>\\n            The Premiere - default\\n           </strong>\\n          </a>\\n          <br/>\\n          Revived\\n         </div>\\n         <div class=\"col-lg-6 col-sm-6 col-xs-6\">\\n          <strong>\\n          </strong>\\n          <br/>\\n         </div>\\n        </div>\\n        <div class=\"list-group-item row\">\\n         <div class=\"col-lg-6 col-sm-6 col-xs-6\">\\n          <a class=\"h5\" href=\"/versions/93\">\\n           <strong>\\n            Extra - default\\n           </strong>\\n          </a>\\n          <br/>\\n          Removed\\n         </div>\\n         <div class=\"col-lg-6 col-sm-6 col-xs-6\">\\n          <strong>\\n          </strong>\\n          <br/>\\n         </div>\\n        </div>\\n        <div class=\"list-group-item row\">\\n         <div class=\"col-lg-6 col-sm-6 col-xs-6\">\\n          <a class=\"h5\" href=\"/versions/94\">\\n           <strong>\\n            The Perfect Collection - default\\n           </strong>\\n          </a>\\n          <br/>\\n          Introduced\\n         </div>\\n         <div class=\"col-lg-6 col-sm-6 col-xs-6\">\\n          <strong>\\n          </strong>\\n          <br/>\\n         </div>\\n        </div>\\n       </div>\\n      </section>\\n      <div class=\"\">\\n       <section class=\"panel\">\\n        <div class=\"panel-heading bg bg-info\">\\n         Versions\\n        </div>\\n        <div class=\"panel-group\" id=\"accordian-version\">\\n         <div class=\"panel\">\\n          <div class=\"panel-heading\">\\n           <a class=\"accordian-toggle\" data-parent=\"#accordian-version\" data-toggle=\"collapse\" href=\"#accordian-mix-39\">\\n            Phoenix\\n           </a>\\n          </div>\\n          <div class=\"panel-collapse in\" id=\"accordian-mix-39\">\\n           <div class=\"panel-body\">\\n            <ul>\\n             <li>\\n              <a href=\"/versions/188\">\\n               <strong>\\n                v1.01.0\\n               </strong>\\n              </a>\\n             </li>\\n            </ul>\\n            <ul>\\n             <li>\\n              <a href=\"/versions/187\">\\n               <strong>\\n                v1.00.0\\n               </strong>\\n              </a>\\n             </li>\\n            </ul>\\n           </div>\\n          </div>\\n         </div>\\n         <div class=\"panel\">\\n          <div class=\"panel-heading\">\\n           <a class=\"accordian-toggle\" data-parent=\"#accordian-version\" data-toggle=\"collapse\" href=\"#accordian-mix-34\">\\n            XX\\n           </a>\\n          </div>\\n          <div class=\"panel-collapse collapse\" id=\"accordian-mix-34\">\\n           <div class=\"panel-body\">\\n            <ul>\\n             <li>\\n              <a href=\"/versions/176\">\\n               <strong>\\n                v2.08.0\\n               </strong>\\n              </a>\\n             </li>\\n            </ul>\\n            <ul>\\n             <li>\\n              <a href=\"/versions/174\">\\n               <strong>\\n                v2.07.0\\n               </strong>\\n              </a>\\n             </li>\\n            </ul>\\n            <ul>\\n             <li>\\n              <a href=\"/versions/173\">\\n               <strong>\\n                v2.06.0\\n               </strong>\\n              </a>\\n             </li>\\n            </ul>\\n            <ul>\\n             <li>\\n              <a href=\"/versions/172\">\\n               <strong>\\n                v2.05.0\\n               </strong>\\n              </a>\\n             </li>\\n            </ul>\\n            <ul>\\n             <li>\\n              <a href=\"/versions/157\">\\n               <strong>\\n                v2.04.0\\n               </strong>\\n              </a>\\n             </li>\\n            </ul>\\n            <ul>\\n             <li>\\n              <a href=\"/versions/156\">\\n               <strong>\\n                v2.03.1\\n               </strong>\\n              </a>\\n             </li>\\n            </ul>\\n            <ul>\\n             <li>\\n              <a href=\"/versions/155\">\\n               <strong>\\n                v2.03.0\\n               </strong>\\n              </a>\\n             </li>\\n            </ul>\\n            <ul>\\n             <li>\\n              <a href=\"/versions/154\">\\n               <strong>\\n                v2.02.0\\n               </strong>\\n              </a>\\n             </li>\\n            </ul>\\n            <ul>\\n             <li>\\n              <a href=\"/versions/153\">\\n               <strong>\\n                v2.01.0\\n               </strong>\\n              </a>\\n             </li>\\n            </ul>\\n            <ul>\\n             <li>\\n              <a href=\"/versions/152\">\\n               <strong>\\n                v2.00.0\\n               </strong>\\n              </a>\\n             </li>\\n            </ul>\\n            <ul>\\n             <li>\\n              <a href=\"/versions/151\">\\n               <strong>\\n                v1.05.0\\n               </strong>\\n              </a>\\n             </li>\\n            </ul>\\n            <ul>\\n             <li>\\n              <a href=\"/versions/150\">\\n               <strong>\\n                v1.04.0\\n               </strong>\\n              </a>\\n             </li>\\n            </ul>\\n            <ul>\\n             <li>\\n              <a href=\"/versions/149\">\\n               <strong>\\n                v1.03.1\\n               </strong>\\n              </a>\\n             </li>\\n            </ul>\\n            <ul>\\n             <li>\\n              <a href=\"/versions/148\">\\n               <strong>\\n                v1.03.0\\n               </strong>\\n              </a>\\n             </li>\\n            </ul>\\n            <ul>\\n             <li>\\n              <a href=\"/versions/147\">\\n               <strong>\\n                v1.02.0\\n               </strong>\\n              </a>\\n             </li>\\n            </ul>\\n            <ul>\\n             <li>\\n              <a href=\"/versions/146\">\\n               <strong>\\n                v1.01.0\\n               </strong>\\n              </a>\\n             </li>\\n            </ul>\\n            <ul>\\n             <li>\\n              <a href=\"/versions/145\">\\n               <strong>\\n                v1.00.1\\n               </strong>\\n              </a>\\n             </li>\\n            </ul>\\n           </div>\\n          </div>\\n         </div>\\n         <div class=\"panel\">\\n          <div class=\"panel-heading\">\\n           <a class=\"accordian-toggle\" data-parent=\"#accordian-version\" data-toggle=\"collapse\" href=\"#accordian-mix-33\">\\n            Prime 2\\n           </a>\\n          </div>\\n          <div class=\"panel-collapse collapse\" id=\"accordian-mix-33\">\\n           <div class=\"panel-body\">\\n            <ul>\\n             <li>\\n              <a href=\"/versions/143\">\\n               <strong>\\n                v2.05.0\\n               </strong>\\n              </a>\\n             </li>\\n            </ul>\\n            <ul>\\n             <li>\\n              <a href=\"/versions/142\">\\n               <strong>\\n                v2.04.0\\n               </strong>\\n              </a>\\n             </li>\\n            </ul>\\n            <ul>\\n             <li>\\n              <a href=\"/versions/141\">\\n               <strong>\\n                v2.03.0\\n               </strong>\\n              </a>\\n             </li>\\n            </ul>\\n            <ul>\\n             <li>\\n              <a href=\"/versions/140\">\\n               <strong>\\n                v2.02.0\\n               </strong>\\n              </a>\\n             </li>\\n            </ul>\\n            <ul>\\n             <li>\\n              <a href=\"/versions/139\">\\n               <strong>\\n                v2.01.0\\n               </strong>\\n              </a>\\n             </li>\\n            </ul>\\n            <ul>\\n             <li>\\n              <a href=\"/versions/138\">\\n               <strong>\\n                v2.00.0\\n               </strong>\\n              </a>\\n             </li>\\n            </ul>\\n            <ul>\\n             <li>\\n              <a href=\"/versions/137\">\\n               <strong>\\n                v1.10.0\\n               </strong>\\n              </a>\\n             </li>\\n            </ul>\\n            <ul>\\n             <li>\\n              <a href=\"/versions/136\">\\n               <strong>\\n                v1.09.0\\n               </strong>\\n              </a>\\n             </li>\\n            </ul>\\n            <ul>\\n             <li>\\n              <a href=\"/versions/135\">\\n               <strong>\\n                v1.08.0\\n               </strong>\\n              </a>\\n             </li>\\n            </ul>\\n            <ul>\\n             <li>\\n              <a href=\"/versions/134\">\\n               <strong>\\n                v1.07.0\\n               </strong>\\n              </a>\\n             </li>\\n            </ul>\\n            <ul>\\n             <li>\\n              <a href=\"/versions/133\">\\n               <strong>\\n                v1.06.0\\n               </strong>\\n              </a>\\n             </li>\\n            </ul>\\n            <ul>\\n             <li>\\n              <a href=\"/versions/132\">\\n               <strong>\\n                v1.05.0\\n               </strong>\\n              </a>\\n             </li>\\n            </ul>\\n            <ul>\\n             <li>\\n              <a href=\"/versions/131\">\\n               <strong>\\n                v1.04.0\\n               </strong>\\n              </a>\\n             </li>\\n            </ul>\\n            <ul>\\n             <li>\\n              <a href=\"/versions/130\">\\n               <strong>\\n                v1.03.0\\n               </strong>\\n              </a>\\n             </li>\\n            </ul>\\n            <ul>\\n             <li>\\n              <a href=\"/versions/129\">\\n               <strong>\\n                v1.02.0\\n               </strong>\\n              </a>\\n             </li>\\n            </ul>\\n            <ul>\\n             <li>\\n              <a href=\"/versions/128\">\\n               <strong>\\n                v1.01.0\\n               </strong>\\n              </a>\\n             </li>\\n            </ul>\\n            <ul>\\n             <li>\\n              <a href=\"/versions/127\">\\n               <strong>\\n                v1.00.0\\n               </strong>\\n              </a>\\n             </li>\\n            </ul>\\n           </div>\\n          </div>\\n         </div>\\n         <div class=\"panel\">\\n          <div class=\"panel-heading\">\\n           <a class=\"accordian-toggle\" data-parent=\"#accordian-version\" data-toggle=\"collapse\" href=\"#accordian-mix-2\">\\n            Prime JE\\n           </a>\\n          </div>\\n          <div class=\"panel-collapse collapse\" id=\"accordian-mix-2\">\\n           <div class=\"panel-body\">\\n            <ul>\\n             <li>\\n              <a href=\"/versions/126\">\\n               <strong>\\n                v1.17.0\\n               </strong>\\n              </a>\\n             </li>\\n            </ul>\\n            <ul>\\n             <li>\\n              <a href=\"/versions/124\">\\n               <strong>\\n                v1.16.0\\n               </strong>\\n              </a>\\n              - 1300 PP\\n             </li>\\n            </ul>\\n            <ul>\\n             <li>\\n              <a href=\"/versions/122\">\\n               <strong>\\n                v1.15.0\\n               </strong>\\n              </a>\\n              - 1300 PP\\n             </li>\\n            </ul>\\n            <ul>\\n             <li>\\n              <a href=\"/versions/119\">\\n               <strong>\\n                v1.14.0\\n               </strong>\\n              </a>\\n              - 1300 PP\\n             </li>\\n            </ul>\\n            <ul>\\n             <li>\\n              <a href=\"/versions/118\">\\n               <strong>\\n                v1.13.0\\n               </strong>\\n              </a>\\n              - 1300 PP\\n             </li>\\n            </ul>\\n            <ul>\\n             <li>\\n              <a href=\"/versions/116\">\\n               <strong>\\n                v1.12.0\\n               </strong>\\n              </a>\\n              - 1300 PP\\n             </li>\\n            </ul>\\n            <ul>\\n             <li>\\n              <a href=\"/versions/114\">\\n               <strong>\\n                v1.11.0\\n               </strong>\\n              </a>\\n              - 1300 PP\\n             </li>\\n            </ul>\\n            <ul>\\n             <li>\\n              <a href=\"/versions/111\">\\n               <strong>\\n                v1.10.0\\n               </strong>\\n              </a>\\n              - 1300 PP\\n             </li>\\n            </ul>\\n            <ul>\\n             <li>\\n              <a href=\"/versions/108\">\\n               <strong>\\n                v1.09.0\\n               </strong>\\n              </a>\\n              - 1300 PP\\n             </li>\\n            </ul>\\n            <ul>\\n             <li>\\n              <a href=\"/versions/104\">\\n               <strong>\\n                v1.08.0\\n               </strong>\\n              </a>\\n              - 1300 PP\\n             </li>\\n            </ul>\\n            <ul>\\n             <li>\\n              <a href=\"/versions/102\">\\n               <strong>\\n                v1.07.0\\n               </strong>\\n              </a>\\n              - 1300 PP\\n             </li>\\n            </ul>\\n            <ul>\\n             <li>\\n              <a href=\"/versions/26\">\\n               <strong>\\n                v1.06.0\\n               </strong>\\n              </a>\\n              - 1300 PP\\n             </li>\\n            </ul>\\n            <ul>\\n             <li>\\n              <a href=\"/versions/24\">\\n               <strong>\\n                v1.05.0\\n               </strong>\\n              </a>\\n              - 1300 PP\\n             </li>\\n            </ul>\\n            <ul>\\n             <li>\\n              <a href=\"/versions/13\">\\n               <strong>\\n                v1.04.0\\n               </strong>\\n              </a>\\n              - 1300 PP\\n             </li>\\n            </ul>\\n            <ul>\\n             <li>\\n              <a href=\"/versions/11\">\\n               <strong>\\n                v1.03.0\\n               </strong>\\n              </a>\\n              - 1300 PP\\n             </li>\\n            </ul>\\n            <ul>\\n             <li>\\n              <a href=\"/versions/9\">\\n               <strong>\\n                v1.02.0\\n               </strong>\\n              </a>\\n              - 1300 PP\\n             </li>\\n            </ul>\\n            <ul>\\n             <li>\\n              <a href=\"/versions/8\">\\n               <strong>\\n                v1.01.0\\n               </strong>\\n              </a>\\n              - 1300 PP\\n             </li>\\n            </ul>\\n           </div>\\n          </div>\\n         </div>\\n         <div class=\"panel\">\\n          <div class=\"panel-heading\">\\n           <a class=\"accordian-toggle\" data-parent=\"#accordian-version\" data-toggle=\"collapse\" href=\"#accordian-mix-1\">\\n            Prime\\n           </a>\\n          </div>\\n          <div class=\"panel-collapse collapse\" id=\"accordian-mix-1\">\\n           <div class=\"panel-body\">\\n            <ul>\\n             <li>\\n              <a href=\"/versions/125\">\\n               <strong>\\n                v1.21.0\\n               </strong>\\n              </a>\\n             </li>\\n            </ul>\\n            <ul>\\n             <li>\\n              <a href=\"/versions/123\">\\n               <strong>\\n                v1.20.0\\n               </strong>\\n              </a>\\n             </li>\\n            </ul>\\n            <ul>\\n             <li>\\n              <a href=\"/versions/121\">\\n               <strong>\\n                v1.19.0\\n               </strong>\\n              </a>\\n             </li>\\n            </ul>\\n            <ul>\\n             <li>\\n              <a href=\"/versions/120\">\\n               <strong>\\n                v1.18.0\\n               </strong>\\n              </a>\\n             </li>\\n            </ul>\\n            <ul>\\n             <li>\\n              <a href=\"/versions/117\">\\n               <strong>\\n                v1.17.0\\n               </strong>\\n              </a>\\n             </li>\\n            </ul>\\n            <ul>\\n             <li>\\n              <a href=\"/versions/115\">\\n               <strong>\\n                v1.16.0\\n               </strong>\\n              </a>\\n             </li>\\n            </ul>\\n            <ul>\\n             <li>\\n              <a href=\"/versions/113\">\\n               <strong>\\n                v1.15.0\\n               </strong>\\n              </a>\\n             </li>\\n            </ul>\\n            <ul>\\n             <li>\\n              <a href=\"/versions/112\">\\n               <strong>\\n                v1.14.0\\n               </strong>\\n              </a>\\n             </li>\\n            </ul>\\n            <ul>\\n             <li>\\n              <a href=\"/versions/109\">\\n               <strong>\\n                v1.13.0\\n               </strong>\\n              </a>\\n             </li>\\n            </ul>\\n            <ul>\\n             <li>\\n              <a href=\"/versions/105\">\\n               <strong>\\n                v1.12.0\\n               </strong>\\n              </a>\\n             </li>\\n            </ul>\\n            <ul>\\n             <li>\\n              <a href=\"/versions/103\">\\n               <strong>\\n                v1.11.0\\n               </strong>\\n              </a>\\n             </li>\\n            </ul>\\n            <ul>\\n             <li>\\n              <a href=\"/versions/27\">\\n               <strong>\\n                v1.10.0\\n               </strong>\\n              </a>\\n             </li>\\n            </ul>\\n            <ul>\\n             <li>\\n              <a href=\"/versions/25\">\\n               <strong>\\n                v1.09.0\\n               </strong>\\n              </a>\\n             </li>\\n            </ul>\\n            <ul>\\n             <li>\\n              <a href=\"/versions/12\">\\n               <strong>\\n                v1.08.0\\n               </strong>\\n              </a>\\n             </li>\\n            </ul>\\n            <ul>\\n             <li>\\n              <a href=\"/versions/10\">\\n               <strong>\\n                v1.07.0\\n               </strong>\\n              </a>\\n             </li>\\n            </ul>\\n            <ul>\\n             <li>\\n              <a href=\"/versions/7\">\\n               <strong>\\n                v1.06.0\\n               </strong>\\n              </a>\\n             </li>\\n            </ul>\\n            <ul>\\n             <li>\\n              <a href=\"/versions/6\">\\n               <strong>\\n                v1.05.0\\n               </strong>\\n              </a>\\n             </li>\\n            </ul>\\n            <ul>\\n             <li>\\n              <a href=\"/versions/5\">\\n               <strong>\\n                v1.04.0\\n               </strong>\\n              </a>\\n             </li>\\n            </ul>\\n            <ul>\\n             <li>\\n              <a href=\"/versions/4\">\\n               <strong>\\n                v1.03.0\\n               </strong>\\n              </a>\\n             </li>\\n            </ul>\\n            <ul>\\n             <li>\\n              <a href=\"/versions/3\">\\n               <strong>\\n                v1.02.0\\n               </strong>\\n              </a>\\n             </li>\\n            </ul>\\n            <ul>\\n             <li>\\n              <a href=\"/versions/2\">\\n               <strong>\\n                v1.01.0\\n               </strong>\\n              </a>\\n             </li>\\n            </ul>\\n            <ul>\\n             <li>\\n              <a href=\"/versions/1\">\\n               <strong>\\n                v1.00.0\\n               </strong>\\n              </a>\\n             </li>\\n            </ul>\\n           </div>\\n          </div>\\n         </div>\\n         <div class=\"panel\">\\n          <div class=\"panel-heading\">\\n           <a class=\"accordian-toggle\" data-parent=\"#accordian-version\" data-toggle=\"collapse\" href=\"#accordian-mix-7\">\\n            Fiesta 2\\n           </a>\\n          </div>\\n          <div class=\"panel-collapse collapse\" id=\"accordian-mix-7\">\\n           <div class=\"panel-body\">\\n            <ul>\\n             <li>\\n              <a href=\"/versions/23\">\\n               <strong>\\n                v1.61\\n               </strong>\\n              </a>\\n             </li>\\n            </ul>\\n            <ul>\\n             <li>\\n              <a href=\"/versions/22\">\\n               <strong>\\n                v1.60\\n               </strong>\\n              </a>\\n             </li>\\n            </ul>\\n            <ul>\\n             <li>\\n              <a href=\"/versions/21\">\\n               <strong>\\n                v1.51\\n               </strong>\\n              </a>\\n             </li>\\n            </ul>\\n            <ul>\\n             <li>\\n              <a href=\"/versions/20\">\\n               <strong>\\n                v1.50\\n               </strong>\\n              </a>\\n             </li>\\n            </ul>\\n            <ul>\\n             <li>\\n              <a href=\"/versions/19\">\\n               <strong>\\n                v1.40\\n               </strong>\\n              </a>\\n             </li>\\n            </ul>\\n            <ul>\\n             <li>\\n              <a href=\"/versions/18\">\\n               <strong>\\n                v1.30\\n               </strong>\\n              </a>\\n             </li>\\n            </ul>\\n            <ul>\\n             <li>\\n              <a href=\"/versions/17\">\\n               <strong>\\n                v1.20\\n               </strong>\\n              </a>\\n             </li>\\n            </ul>\\n            <ul>\\n             <li>\\n              <a href=\"/versions/16\">\\n               <strong>\\n                v1.10\\n               </strong>\\n              </a>\\n             </li>\\n            </ul>\\n            <ul>\\n             <li>\\n              <a href=\"/versions/15\">\\n               <strong>\\n                v1.01\\n               </strong>\\n              </a>\\n             </li>\\n            </ul>\\n            <ul>\\n             <li>\\n              <a href=\"/versions/14\">\\n               <strong>\\n                v1.00\\n               </strong>\\n              </a>\\n             </li>\\n            </ul>\\n           </div>\\n          </div>\\n         </div>\\n         <div class=\"panel\">\\n          <div class=\"panel-heading\">\\n           <a class=\"accordian-toggle\" data-parent=\"#accordian-version\" data-toggle=\"collapse\" href=\"#accordian-mix-9\">\\n            Fiesta EX\\n           </a>\\n          </div>\\n          <div class=\"panel-collapse collapse\" id=\"accordian-mix-9\">\\n           <div class=\"panel-body\">\\n            <ul>\\n             <li>\\n              <a href=\"/versions/171\">\\n               <strong>\\n                v1.51\\n               </strong>\\n              </a>\\n             </li>\\n            </ul>\\n            <ul>\\n             <li>\\n              <a href=\"/versions/170\">\\n               <strong>\\n                v1.50\\n               </strong>\\n              </a>\\n             </li>\\n            </ul>\\n            <ul>\\n             <li>\\n              <a href=\"/versions/169\">\\n               <strong>\\n                v1.40\\n               </strong>\\n              </a>\\n             </li>\\n            </ul>\\n            <ul>\\n             <li>\\n              <a href=\"/versions/168\">\\n               <strong>\\n                v1.30\\n               </strong>\\n              </a>\\n             </li>\\n            </ul>\\n            <ul>\\n             <li>\\n              <a href=\"/versions/167\">\\n               <strong>\\n                v1.20\\n               </strong>\\n              </a>\\n             </li>\\n            </ul>\\n            <ul>\\n             <li>\\n              <a href=\"/versions/166\">\\n               <strong>\\n                v1.10\\n               </strong>\\n              </a>\\n             </li>\\n            </ul>\\n            <ul>\\n             <li>\\n              <a href=\"/versions/77\">\\n               <strong>\\n                v1.00\\n               </strong>\\n              </a>\\n             </li>\\n            </ul>\\n           </div>\\n          </div>\\n         </div>\\n         <div class=\"panel\">\\n          <div class=\"panel-heading\">\\n           <a class=\"accordian-toggle\" data-parent=\"#accordian-version\" data-toggle=\"collapse\" href=\"#accordian-mix-16\">\\n            Exceed 2\\n           </a>\\n          </div>\\n          <div class=\"panel-collapse collapse\" id=\"accordian-mix-16\">\\n           <div class=\"panel-body\">\\n            <ul>\\n             <li>\\n              <a href=\"/versions/83\">\\n               <strong>\\n                default\\n               </strong>\\n              </a>\\n             </li>\\n            </ul>\\n           </div>\\n          </div>\\n         </div>\\n         <div class=\"panel\">\\n          <div class=\"panel-heading\">\\n           <a class=\"accordian-toggle\" data-parent=\"#accordian-version\" data-toggle=\"collapse\" href=\"#accordian-mix-17\">\\n            Exceed\\n           </a>\\n          </div>\\n          <div class=\"panel-collapse collapse\" id=\"accordian-mix-17\">\\n           <div class=\"panel-body\">\\n            <ul>\\n             <li>\\n              <a href=\"/versions/84\">\\n               <strong>\\n                default\\n               </strong>\\n              </a>\\n             </li>\\n            </ul>\\n           </div>\\n          </div>\\n         </div>\\n         <div class=\"panel\">\\n          <div class=\"panel-heading\">\\n           <a class=\"accordian-toggle\" data-parent=\"#accordian-version\" data-toggle=\"collapse\" href=\"#accordian-mix-18\">\\n            The Prex 3\\n           </a>\\n          </div>\\n          <div class=\"panel-collapse collapse\" id=\"accordian-mix-18\">\\n           <div class=\"panel-body\">\\n            <ul>\\n             <li>\\n              <a href=\"/versions/85\">\\n               <strong>\\n                default\\n               </strong>\\n              </a>\\n             </li>\\n            </ul>\\n           </div>\\n          </div>\\n         </div>\\n         <div class=\"panel\">\\n          <div class=\"panel-heading\">\\n           <a class=\"accordian-toggle\" data-parent=\"#accordian-version\" data-toggle=\"collapse\" href=\"#accordian-mix-21\">\\n            The Premiere 2\\n           </a>\\n          </div>\\n          <div class=\"panel-collapse collapse\" id=\"accordian-mix-21\">\\n           <div class=\"panel-body\">\\n            <ul>\\n             <li>\\n              <a href=\"/versions/88\">\\n               <strong>\\n                default\\n               </strong>\\n              </a>\\n             </li>\\n            </ul>\\n           </div>\\n          </div>\\n         </div>\\n         <div class=\"panel\">\\n          <div class=\"panel-heading\">\\n           <a class=\"accordian-toggle\" data-parent=\"#accordian-version\" data-toggle=\"collapse\" href=\"#accordian-mix-23\">\\n            The Prex\\n           </a>\\n          </div>\\n          <div class=\"panel-collapse collapse\" id=\"accordian-mix-23\">\\n           <div class=\"panel-body\">\\n            <ul>\\n             <li>\\n              <a href=\"/versions/90\">\\n               <strong>\\n                default\\n               </strong>\\n              </a>\\n             </li>\\n            </ul>\\n           </div>\\n          </div>\\n         </div>\\n         <div class=\"panel\">\\n          <div class=\"panel-heading\">\\n           <a class=\"accordian-toggle\" data-parent=\"#accordian-version\" data-toggle=\"collapse\" href=\"#accordian-mix-24\">\\n            The Premiere\\n           </a>\\n          </div>\\n          <div class=\"panel-collapse collapse\" id=\"accordian-mix-24\">\\n           <div class=\"panel-body\">\\n            <ul>\\n             <li>\\n              <a href=\"/versions/91\">\\n               <strong>\\n                default\\n               </strong>\\n              </a>\\n             </li>\\n            </ul>\\n           </div>\\n          </div>\\n         </div>\\n         <div class=\"panel\">\\n          <div class=\"panel-heading\">\\n           <a class=\"accordian-toggle\" data-parent=\"#accordian-version\" data-toggle=\"collapse\" href=\"#accordian-mix-27\">\\n            The Perfect Collection\\n           </a>\\n          </div>\\n          <div class=\"panel-collapse collapse\" id=\"accordian-mix-27\">\\n           <div class=\"panel-body\">\\n            <ul>\\n             <li>\\n              <a href=\"/versions/94\">\\n               <strong>\\n                default\\n               </strong>\\n              </a>\\n             </li>\\n            </ul>\\n           </div>\\n          </div>\\n         </div>\\n        </div>\\n       </section>\\n      </div>\\n     </div>\\n    </div>\\n    <div class=\"row\">\\n    </div>\\n   </section>\\n  </section>\\n  <!-- footer -->\\n  <footer id=\"footer\">\\n   <div class=\"text-center padder clearfix\">\\n    <p>\\n     <small>\\n      Pump Out is a hobby project providing players with useful data to get more out of Pump it Up!.\\n     </small>\\n     <br/>\\n     <br/>\\n     <!--<a href=\"#\" class=\"btn btn-xs btn-circle btn-twitter\"><i class=\"fa fa-twitter\"></i></a>-->\\n     <a class=\"btn btn-xs btn-circle btn-facebook\" href=\"https://www.facebook.com/Pump-Out-220466554631026\">\\n      <i class=\"fa fa-facebook\">\\n      </i>\\n     </a>\\n     <a class=\"btn btn-xs btn-circle btn-danger\" href=\"https://play.google.com/store/apps/details?id=com.anyhowstep.pumpout\">\\n      <i class=\"fa fa-android\">\\n      </i>\\n     </a>\\n     <!--<a href=\"#\" class=\"btn btn-xs btn-circle btn-gplus\"><i class=\"fa fa-google-plus\"></i></a>-->\\n     <br/>\\n     <small>\\n      Plays last updated:\\n\\t\\t\\t\\t\\t\\t15 May\\' 2017\\n      <u>\\n       23:19 ~\\n\\t\\t\\t\\t\\t\\t00:01\\n      </u>\\n      GMT+8\\n     </small>\\n     <br/>\\n     <small>\\n      Processing time:\\n\\t\\t\\t\\t\\t\\t0.13480305671692\\n     </small>\\n     <br>\\n      <br>\\n       <small>\\n        In case you care about privacy policies,\\n        <b>\\n         <a href=\"/privacy\">\\n          here is the privacy policy\\n         </a>\\n        </b>\\n        .\\n       </small>\\n      </br>\\n     </br>\\n    </p>\\n   </div>\\n  </footer>\\n  <a class=\"hide slide-nav-block\" data-target=\"body\" data-toggle=\"class:slide-nav slide-nav-left\" href=\"#\">\\n  </a>\\n  <!-- / footer -->\\n  <script>\\n  </script>\\n  <script>\\n   $(document).ready(function () {\\n\\t\\t\\t\\t$(\".btn-group\").find(\".btn\").each(function (index, item) {\\n\\t\\t\\t\\t\\tvar radio = $(item).find(\"input[type=radio]\").first();\\n\\t\\t\\t\\t\\tif (radio.prop(\"checked\")) {\\n\\t\\t\\t\\t\\t\\t$(item).addClass(\"active\");\\n\\t\\t\\t\\t\\t}\\n\\t\\t\\t\\t});\\n\\t\\t\\t});\\n  </script>\\n </body>\\n</html>\\n'"
      ]
     },
     "execution_count": 14,
     "metadata": {},
     "output_type": "execute_result"
    }
   ],
   "source": [
    "def parse_back_to_soups(filename):\n",
    "    with open(filename, 'r', encoding='utf-8') as file:\n",
    "        content = file.read()\n",
    "    \n",
    "    # Split the content by the starting delimiter (ignoring the first split which is empty)\n",
    "    segments = content.split(\"!!URL index=\")[1:]\n",
    "    \n",
    "    # Extract the HTML content from each segment\n",
    "    html_contents = []\n",
    "    for segment in segments:\n",
    "        # Further split by the ending delimiter and take the first part\n",
    "        html_content = segment.split(\"!!End of URL!!\\n\")[0]\n",
    "        # The actual content starts after the first newline character\n",
    "        html_content = html_content.split('\\n', 1)[1]\n",
    "        html_contents.append(html_content.strip())\n",
    "    \n",
    "    return html_contents\n",
    "\n",
    "# Example usage\n",
    "filename = \"Soup_backup.txt\"\n",
    "html_contents = parse_back_to_soups(filename)\n",
    "\n",
    "# Optionally, convert each HTML string back to a BeautifulSoup object\n",
    "soup_objects = [BeautifulSoup(html, 'html.parser') for html in html_contents]\n",
    "\n",
    "# Do something with your soup objects\n",
    "soup_objects[0].prettify()"
   ]
  },
  {
   "cell_type": "code",
   "execution_count": 194,
   "metadata": {},
   "outputs": [
    {
     "name": "stdout",
     "output_type": "stream",
     "text": [
      "New Gangsta\n",
      "## Adrenaline Blaster ##\n",
      "bpm: 150\n",
      "category: ORIGINAL\n",
      "gametype: Arcade\n",
      "Fine Here\n",
      "Fine THere\n",
      "Fine Everywhere\n"
     ]
    },
    {
     "ename": "TypeError",
     "evalue": "'str' object is not callable",
     "output_type": "error",
     "traceback": [
      "\u001b[1;31m---------------------------------------------------------------------------\u001b[0m",
      "\u001b[1;31mTypeError\u001b[0m                                 Traceback (most recent call last)",
      "File \u001b[1;32m~\\AppData\\Local\\Packages\\PythonSoftwareFoundation.Python.3.11_qbz5n2kfra8p0\\LocalCache\\local-packages\\Python311\\site-packages\\IPython\\core\\formatters.py:708\u001b[0m, in \u001b[0;36mPlainTextFormatter.__call__\u001b[1;34m(self, obj)\u001b[0m\n\u001b[0;32m    701\u001b[0m stream \u001b[38;5;241m=\u001b[39m StringIO()\n\u001b[0;32m    702\u001b[0m printer \u001b[38;5;241m=\u001b[39m pretty\u001b[38;5;241m.\u001b[39mRepresentationPrinter(stream, \u001b[38;5;28mself\u001b[39m\u001b[38;5;241m.\u001b[39mverbose,\n\u001b[0;32m    703\u001b[0m     \u001b[38;5;28mself\u001b[39m\u001b[38;5;241m.\u001b[39mmax_width, \u001b[38;5;28mself\u001b[39m\u001b[38;5;241m.\u001b[39mnewline,\n\u001b[0;32m    704\u001b[0m     max_seq_length\u001b[38;5;241m=\u001b[39m\u001b[38;5;28mself\u001b[39m\u001b[38;5;241m.\u001b[39mmax_seq_length,\n\u001b[0;32m    705\u001b[0m     singleton_pprinters\u001b[38;5;241m=\u001b[39m\u001b[38;5;28mself\u001b[39m\u001b[38;5;241m.\u001b[39msingleton_printers,\n\u001b[0;32m    706\u001b[0m     type_pprinters\u001b[38;5;241m=\u001b[39m\u001b[38;5;28mself\u001b[39m\u001b[38;5;241m.\u001b[39mtype_printers,\n\u001b[0;32m    707\u001b[0m     deferred_pprinters\u001b[38;5;241m=\u001b[39m\u001b[38;5;28mself\u001b[39m\u001b[38;5;241m.\u001b[39mdeferred_printers)\n\u001b[1;32m--> 708\u001b[0m \u001b[43mprinter\u001b[49m\u001b[38;5;241;43m.\u001b[39;49m\u001b[43mpretty\u001b[49m\u001b[43m(\u001b[49m\u001b[43mobj\u001b[49m\u001b[43m)\u001b[49m\n\u001b[0;32m    709\u001b[0m printer\u001b[38;5;241m.\u001b[39mflush()\n\u001b[0;32m    710\u001b[0m \u001b[38;5;28;01mreturn\u001b[39;00m stream\u001b[38;5;241m.\u001b[39mgetvalue()\n",
      "File \u001b[1;32m~\\AppData\\Local\\Packages\\PythonSoftwareFoundation.Python.3.11_qbz5n2kfra8p0\\LocalCache\\local-packages\\Python311\\site-packages\\IPython\\lib\\pretty.py:410\u001b[0m, in \u001b[0;36mRepresentationPrinter.pretty\u001b[1;34m(self, obj)\u001b[0m\n\u001b[0;32m    407\u001b[0m                         \u001b[38;5;28;01mreturn\u001b[39;00m meth(obj, \u001b[38;5;28mself\u001b[39m, cycle)\n\u001b[0;32m    408\u001b[0m                 \u001b[38;5;28;01mif\u001b[39;00m \u001b[38;5;28mcls\u001b[39m \u001b[38;5;129;01mis\u001b[39;00m \u001b[38;5;129;01mnot\u001b[39;00m \u001b[38;5;28mobject\u001b[39m \\\n\u001b[0;32m    409\u001b[0m                         \u001b[38;5;129;01mand\u001b[39;00m \u001b[38;5;28mcallable\u001b[39m(\u001b[38;5;28mcls\u001b[39m\u001b[38;5;241m.\u001b[39m\u001b[38;5;18m__dict__\u001b[39m\u001b[38;5;241m.\u001b[39mget(\u001b[38;5;124m'\u001b[39m\u001b[38;5;124m__repr__\u001b[39m\u001b[38;5;124m'\u001b[39m)):\n\u001b[1;32m--> 410\u001b[0m                     \u001b[38;5;28;01mreturn\u001b[39;00m \u001b[43m_repr_pprint\u001b[49m\u001b[43m(\u001b[49m\u001b[43mobj\u001b[49m\u001b[43m,\u001b[49m\u001b[43m \u001b[49m\u001b[38;5;28;43mself\u001b[39;49m\u001b[43m,\u001b[49m\u001b[43m \u001b[49m\u001b[43mcycle\u001b[49m\u001b[43m)\u001b[49m\n\u001b[0;32m    412\u001b[0m     \u001b[38;5;28;01mreturn\u001b[39;00m _default_pprint(obj, \u001b[38;5;28mself\u001b[39m, cycle)\n\u001b[0;32m    413\u001b[0m \u001b[38;5;28;01mfinally\u001b[39;00m:\n",
      "File \u001b[1;32m~\\AppData\\Local\\Packages\\PythonSoftwareFoundation.Python.3.11_qbz5n2kfra8p0\\LocalCache\\local-packages\\Python311\\site-packages\\IPython\\lib\\pretty.py:778\u001b[0m, in \u001b[0;36m_repr_pprint\u001b[1;34m(obj, p, cycle)\u001b[0m\n\u001b[0;32m    776\u001b[0m \u001b[38;5;250m\u001b[39m\u001b[38;5;124;03m\"\"\"A pprint that just redirects to the normal repr function.\"\"\"\u001b[39;00m\n\u001b[0;32m    777\u001b[0m \u001b[38;5;66;03m# Find newlines and replace them with p.break_()\u001b[39;00m\n\u001b[1;32m--> 778\u001b[0m output \u001b[38;5;241m=\u001b[39m \u001b[38;5;28mrepr\u001b[39m(obj)\n\u001b[0;32m    779\u001b[0m lines \u001b[38;5;241m=\u001b[39m output\u001b[38;5;241m.\u001b[39msplitlines()\n\u001b[0;32m    780\u001b[0m \u001b[38;5;28;01mwith\u001b[39;00m p\u001b[38;5;241m.\u001b[39mgroup():\n",
      "File \u001b[1;32mc:\\Users\\chorj\\Documents\\GitHub\\Stepchart_Ranking\\PIU_Stepchart_Ranking_SubProject\\piu_utilities_crawling.py:52\u001b[0m, in \u001b[0;36mSongData.__repr__\u001b[1;34m(self)\u001b[0m\n\u001b[0;32m     49\u001b[0m \u001b[38;5;28;01mdef\u001b[39;00m \u001b[38;5;21m__repr__\u001b[39m(\u001b[38;5;28mself\u001b[39m):\n\u001b[0;32m     50\u001b[0m     \u001b[38;5;28;01mreturn\u001b[39;00m \u001b[38;5;124mf\u001b[39m\u001b[38;5;124m'\u001b[39m\u001b[38;5;124mtitle: \u001b[39m\u001b[38;5;132;01m{\u001b[39;00m\u001b[38;5;28mself\u001b[39m\u001b[38;5;241m.\u001b[39mtitle\u001b[38;5;132;01m}\u001b[39;00m\u001b[38;5;124m, composer: \u001b[39m\u001b[38;5;132;01m{\u001b[39;00m\u001b[38;5;28mself\u001b[39m\u001b[38;5;241m.\u001b[39mcomposers\u001b[38;5;132;01m}\u001b[39;00m\u001b[38;5;124m, bpm: \u001b[39m\u001b[38;5;132;01m{\u001b[39;00m\u001b[38;5;28mself\u001b[39m\u001b[38;5;241m.\u001b[39mbpm\u001b[38;5;132;01m}\u001b[39;00m\u001b[38;5;124m, \u001b[39m\u001b[38;5;130;01m\\\u001b[39;00m\n\u001b[0;32m     51\u001b[0m \u001b[38;5;124m    category: \u001b[39m\u001b[38;5;132;01m{\u001b[39;00m\u001b[38;5;28mself\u001b[39m\u001b[38;5;241m.\u001b[39mcategory\u001b[38;5;132;01m}\u001b[39;00m\u001b[38;5;124m, gametype: \u001b[39m\u001b[38;5;132;01m{\u001b[39;00m\u001b[38;5;28mself\u001b[39m\u001b[38;5;241m.\u001b[39mgametype\u001b[38;5;132;01m}\u001b[39;00m\u001b[38;5;124m, \u001b[39m\u001b[38;5;130;01m\\\u001b[39;00m\n\u001b[1;32m---> 52\u001b[0m \u001b[38;5;124m    version: \u001b[39m\u001b[38;5;132;01m{\u001b[39;00m\u001b[38;5;28mself\u001b[39m\u001b[38;5;241m.\u001b[39mversion\u001b[38;5;132;01m}\u001b[39;00m\u001b[38;5;124m, version_detail: \u001b[39m\u001b[38;5;132;01m{\u001b[39;00m\u001b[38;5;28mself\u001b[39m\u001b[38;5;241m.\u001b[39mversion_detail\u001b[38;5;132;01m}\u001b[39;00m\u001b[38;5;130;01m\\n\u001b[39;00m\u001b[38;5;124mstep info:\u001b[39m\u001b[38;5;130;01m\\n\u001b[39;00m\u001b[38;5;132;01m{\u001b[39;00m\u001b[38;5;28;43mself\u001b[39;49m\u001b[38;5;241;43m.\u001b[39;49m\u001b[43mchartInfo_to_string\u001b[49m\u001b[43m(\u001b[49m\u001b[43m)\u001b[49m\u001b[38;5;132;01m}\u001b[39;00m\u001b[38;5;130;01m\\n\u001b[39;00m\u001b[38;5;124m'\u001b[39m\n",
      "File \u001b[1;32mc:\\Users\\chorj\\Documents\\GitHub\\Stepchart_Ranking\\PIU_Stepchart_Ranking_SubProject\\piu_utilities_crawling.py:41\u001b[0m, in \u001b[0;36mSongData.chartInfo_to_string\u001b[1;34m(self)\u001b[0m\n\u001b[0;32m     39\u001b[0m \u001b[38;5;28mstr\u001b[39m \u001b[38;5;241m=\u001b[39m \u001b[38;5;124m\"\u001b[39m\u001b[38;5;124m\"\u001b[39m\n\u001b[0;32m     40\u001b[0m \u001b[38;5;28;01mfor\u001b[39;00m i \u001b[38;5;129;01min\u001b[39;00m \u001b[38;5;28mrange\u001b[39m(\u001b[38;5;28mself\u001b[39m\u001b[38;5;241m.\u001b[39mlength):\n\u001b[1;32m---> 41\u001b[0m     \u001b[38;5;28mstr\u001b[39m \u001b[38;5;241m+\u001b[39m\u001b[38;5;241m=\u001b[39m (\u001b[38;5;28;43mstr\u001b[39;49m\u001b[43m(\u001b[49m\u001b[38;5;28;43mself\u001b[39;49m\u001b[38;5;241;43m.\u001b[39;49m\u001b[43mchartInfo\u001b[49m\u001b[43m[\u001b[49m\u001b[43mi\u001b[49m\u001b[43m]\u001b[49m\u001b[43m)\u001b[49m)\n\u001b[0;32m     42\u001b[0m \u001b[38;5;28;01mreturn\u001b[39;00m \u001b[38;5;28mstr\u001b[39m\n",
      "\u001b[1;31mTypeError\u001b[0m: 'str' object is not callable"
     ]
    }
   ],
   "source": [
    "from piu_utilities_crawling import *\n",
    "\n",
    "#get Chimera's metadata\n",
    "\n",
    "testme = soup_objects[829]\n",
    "\n",
    "txt = extract_metadata(testme)\n",
    "\n",
    "txt"
   ]
  },
  {
   "cell_type": "code",
   "execution_count": 141,
   "metadata": {},
   "outputs": [
    {
     "name": "stdout",
     "output_type": "stream",
     "text": [
      "('S04', [], ['ANDAMIRO'], 'Fiesta', 'v1.01')\n",
      "('S09', ['S07', 'S08'], ['JKD'], 'NX / New Xenesis', 'default')\n",
      "('S13', ['S12', 'S11'], ['ANDAMIRO'], 'Fiesta', 'v1.01')\n",
      "('S14', ['S16', 'S13'], ['BPM'], 'NX / New Xenesis', 'default')\n",
      "('S18', [], ['BPM'], 'Fiesta', 'v1.01')\n",
      "('S19', ['S16', 'S17'], ['ANDAMIRO', 'AHGOO'], 'NX / New Xenesis', 'default')\n",
      "('S19', ['S20'], ['BPM'], 'NX2 / Next Xenesis', 'default')\n",
      "('S20', [], ['ESC'], 'ERROR', 'ERROR')\n",
      "('S23', ['S22'], ['EHNE'], 'NX / New Xenesis', 'default')\n",
      "('D18', ['D16', 'D15'], ['BPM'], 'NX / New Xenesis', 'default')\n",
      "('D21', ['D20'], ['WING'], 'NX / New Xenesis', 'default')\n",
      "('D22', [], ['OSING'], 'XX', 'v2.03.0')\n",
      "('D26', ['D25', 'D24'], ['EHNE'], 'NX / New Xenesis', 'default')\n",
      "('D??', ['R16'], ['BPM'], 'NX / New Xenesis', 'default')\n",
      "('C02', ['R10', 'DP??'], ['ANDAMIRO'], 'Fiesta', 'v1.01')\n"
     ]
    }
   ],
   "source": [
    "sample = target_div[5]\n",
    "\n",
    "def level_format(str):\n",
    "    parts = str.split(\"Levels/\")\n",
    "    substring_after_levels = parts[1] if len(parts) > 1 else None\n",
    "    substring_after_levels = extract_before_slash(substring_after_levels)\n",
    "    if str[-8:-6] == \"sp\":\n",
    "        level = \"??\"\n",
    "    else:\n",
    "        level = str[-6:-4]\n",
    "    return f'{substring_after_levels}{level}'\n",
    "\n",
    "def parse_version_and_detail(str):\n",
    "    parts = str.split(\" - \")\n",
    "    if len(parts) != 2:\n",
    "        return \"ERROR\", \"ERROR\"\n",
    "    else:\n",
    "        return parts[0].strip(), parts[1].strip()\n",
    "\n",
    "def parse_stepLV_artist_version(sample):\n",
    "    \n",
    "    img_elements = sample.find_all('img')\n",
    "\n",
    "    level = level_format(img_elements[0]['src'])\n",
    "    #print(level)\n",
    "    level_history = []\n",
    "    step_artist_list = []\n",
    "    \n",
    "    for item in img_elements[1:]:\n",
    "        level_history.append(level_format(item['src']))\n",
    "    #print(level_history)\n",
    "\n",
    "    step_artist_list = sample.find_all('span', {'class': 'label bg-primary'})\n",
    "    for index in range(len(step_artist_list)):\n",
    "        step_artist_list[index] = step_artist_list[index].text.strip()\n",
    "    version, version_detail = parse_version_and_detail(sample.find('span', {'class': 'label bg-info'}).text.strip())\n",
    "    #print(step_artist_list, version, version_detail)\n",
    "\n",
    "    tags = []\n",
    "\n",
    "\n",
    "    return level, level_history, step_artist_list, version, version_detail, tags\n",
    "    #return level, level_history, step_artist, version, version_detail\n",
    "parse_stepLV_artist_version(sample)\n",
    "\n",
    "for item in target_div:\n",
    "    print(parse_stepLV_artist_version(item))\n"
   ]
  },
  {
   "cell_type": "code",
   "execution_count": 117,
   "metadata": {},
   "outputs": [
    {
     "data": {
      "text/plain": [
       "[<span class=\"label bg-primary\">\n",
       "             ANDAMIRO\n",
       "            </span>,\n",
       " <span class=\"label bg-primary\">\n",
       "             AHGOO\n",
       "            </span>,\n",
       " <span class=\"label bg-info\">\n",
       " <i class=\"fa fa-plus\">\n",
       " </i>\n",
       "             NX / New Xenesis - default\n",
       "            </span>,\n",
       " <span class=\"label bg-inverse\">\n",
       "             HARD\n",
       "            </span>,\n",
       " <span class=\"label bg-inverse\">\n",
       "             UPDATED\n",
       "            </span>]"
      ]
     },
     "execution_count": 117,
     "metadata": {},
     "output_type": "execute_result"
    }
   ],
   "source": [
    "span_elements = sample.find_all('span')\n",
    "span_elements"
   ]
  },
  {
   "cell_type": "code",
   "execution_count": null,
   "metadata": {},
   "outputs": [],
   "source": [
    "def get_step_artist_test(soup):\n",
    "    target_div = soup.find('div', class_='col-lg-6').find('section', class_='panel').find('div', class_='list-group').find_all('div', class_=\"media\")\n",
    "    img_elements = target_div.find_all('img')\n",
    "    span_text = soup.find_all('span', {'class': 'badge bg-info'}).text\n",
    "    filtered_imgs = [img for img in img_elements if img.get('class') == ['thumb', 'pull-left'] and img['src'].startswith(\"/images/Levels\")]\n",
    "\n",
    "    bpm = ''.join(filter(str.isdigit, span_text))\n",
    "    #print('bpm:', bpm)\n",
    "    return filtered_imgs\n",
    "\n",
    "\n",
    "target_div = testme.find('div', class_='col-lg-6').find('section', class_='panel').find('div', class_='list-group').find_all('div', class_=\"media\")\n",
    "#target_div = target_div.find_all('div', class_=\"media\")\n",
    "\n",
    "\n",
    "img_elements = target_div.find_all('img')\n",
    "img_elements\n",
    "span_elements = target_div.find_all('span')\n",
    "# Filter imgs based on class and the starting part of 'src'\n",
    "filtered_imgs = [img for img in img_elements if img.get('class') == ['thumb', 'pull-left'] and img['src'].startswith(\"/images/Levels\")]\n",
    "\n",
    "sample = target_div[5]\n",
    "\n",
    "level = 0\n",
    "step_type = \"\"\n",
    "version = \"\"\n",
    "level_history = []\n",
    "tags = []\n",
    "\n",
    "img_elements = sample.find_all('img')\n",
    "\n",
    "span_elements = sample.find_all('span')\n",
    "\n",
    "img_elements"
   ]
  },
  {
   "cell_type": "code",
   "execution_count": 89,
   "metadata": {},
   "outputs": [
    {
     "data": {
      "text/plain": [
       "[<span class=\"label bg-primary\">\n",
       "             ANDAMIRO\n",
       "            </span>,\n",
       " <span class=\"label bg-primary\">\n",
       "             AHGOO\n",
       "            </span>,\n",
       " <span class=\"label bg-info\">\n",
       " <i class=\"fa fa-plus\">\n",
       " </i>\n",
       "             NX / New Xenesis - default\n",
       "            </span>,\n",
       " <span class=\"label bg-inverse\">\n",
       "             HARD\n",
       "            </span>,\n",
       " <span class=\"label bg-inverse\">\n",
       "             UPDATED\n",
       "            </span>]"
      ]
     },
     "execution_count": 89,
     "metadata": {},
     "output_type": "execute_result"
    }
   ],
   "source": [
    "span_elements\n",
    "\n"
   ]
  },
  {
   "cell_type": "code",
   "execution_count": 80,
   "metadata": {},
   "outputs": [
    {
     "data": {
      "text/plain": [
       "15"
      ]
     },
     "execution_count": 80,
     "metadata": {},
     "output_type": "execute_result"
    }
   ],
   "source": [
    "filtered_spans = [span.get_text(strip=True) for span in span_elements if span.get('class') == ['label', 'bg-primary']]\n",
    "\n",
    "\n",
    "print(len(filtered_imgs))\n",
    "print(len(filtered_spans))\n",
    "\n",
    "\n",
    "filtered_spans"
   ]
  },
  {
   "cell_type": "code",
   "execution_count": 76,
   "metadata": {},
   "outputs": [
    {
     "name": "stdout",
     "output_type": "stream",
     "text": [
      "{\n",
      "    \"manufacturer\": \"Toyota\",\n",
      "    \"model\": \"Camry\",\n",
      "    \"color\": \"Black\",\n",
      "    \"year\": 2019,\n",
      "    \"tires\": [\n",
      "        {\n",
      "            \"diameter\": 16,\n",
      "            \"material\": \"Rubber\"\n",
      "        },\n",
      "        {\n",
      "            \"diameter\": 16,\n",
      "            \"material\": \"Rubber\"\n",
      "        }\n",
      "    ],\n",
      "    \"owners\": [\n",
      "        \"John Doe\",\n",
      "        \"Jane Doe\"\n",
      "    ]\n",
      "}\n"
     ]
    }
   ],
   "source": [
    "import json\n",
    "\n",
    "class Tire:\n",
    "    def __init__(self, diameter, material):\n",
    "        self.diameter = diameter\n",
    "        self.material = material\n",
    "    \n",
    "    def to_dict(self):\n",
    "        return {\n",
    "            \"diameter\": self.diameter,\n",
    "            \"material\": self.material\n",
    "        }\n",
    "\n",
    "class Car:\n",
    "    manufacturer = \"Toyota\"\n",
    "    \n",
    "    def __init__(self, model, color, year, tires, owners):\n",
    "        self.model = model\n",
    "        self.color = color\n",
    "        self.year = year\n",
    "        self.tires = tires  # Tire 인스턴스의 리스트\n",
    "        self.owners = owners  # 소유자 이름의 리스트\n",
    "    \n",
    "    def to_json(self):\n",
    "        data = {\n",
    "            \"manufacturer\": Car.manufacturer,\n",
    "            \"model\": self.model,\n",
    "            \"color\": self.color,\n",
    "            \"year\": self.year,\n",
    "            \"tires\": [tire.to_dict() for tire in self.tires],\n",
    "            \"owners\": self.owners  # 소유자 정보 추가\n",
    "        }\n",
    "        return json.dumps(data, indent=4)\n",
    "\n",
    "# Tire 인스턴스 생성\n",
    "tires = [Tire(16, \"Rubber\"), Tire(16, \"Rubber\")]\n",
    "\n",
    "# 소유자 리스트\n",
    "owners = [\"John Doe\", \"Jane Doe\"]\n",
    "\n",
    "# Car 인스턴스 생성 시 타이어와 소유자 정보 포함\n",
    "car = Car(\"Camry\", \"Black\", 2019, tires, owners)\n",
    "\n",
    "# Car 인스턴스를 JSON으로 변환하여 출력\n",
    "print(car.to_json())\n"
   ]
  },
  {
   "cell_type": "code",
   "execution_count": 180,
   "metadata": {},
   "outputs": [
    {
     "name": "stdout",
     "output_type": "stream",
     "text": [
      "203.1\n"
     ]
    }
   ],
   "source": [
    "#VersionData:\n",
    "def get_normal_float(value):\n",
    "    flag = 0\n",
    "    for i in range(len(value)):\n",
    "        if value[i] == '.':\n",
    "            flag += 1\n",
    "    if flag > 1:\n",
    "        return value.replace('.', '', 1)\n",
    "    else:\n",
    "        return value\n",
    "\n",
    "version = \"2.03.1\"\n",
    "\n",
    "\n",
    "\n",
    "print(get_normal_float(version))  # Output: 2.031"
   ]
  },
  {
   "cell_type": "code",
   "execution_count": 195,
   "metadata": {},
   "outputs": [
    {
     "data": {
      "text/plain": [
       "'_1021'"
      ]
     },
     "execution_count": 195,
     "metadata": {},
     "output_type": "execute_result"
    }
   ],
   "source": [
    "str = \"_10\"\n",
    "str2 = \"21\"\n",
    "\n",
    "str+ str2"
   ]
  }
 ],
 "metadata": {
  "kernelspec": {
   "display_name": "Python 3",
   "language": "python",
   "name": "python3"
  },
  "language_info": {
   "codemirror_mode": {
    "name": "ipython",
    "version": 3
   },
   "file_extension": ".py",
   "mimetype": "text/x-python",
   "name": "python",
   "nbconvert_exporter": "python",
   "pygments_lexer": "ipython3",
   "version": "3.11.8"
  }
 },
 "nbformat": 4,
 "nbformat_minor": 2
}
